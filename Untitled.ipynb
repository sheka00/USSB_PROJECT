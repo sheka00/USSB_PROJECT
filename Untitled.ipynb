{
 "cells": [
  {
   "cell_type": "code",
   "execution_count": 8,
   "id": "c90241a6",
   "metadata": {},
   "outputs": [],
   "source": [
    "import pandas as pd"
   ]
  },
  {
   "cell_type": "code",
   "execution_count": 9,
   "id": "a2174cdf",
   "metadata": {},
   "outputs": [
    {
     "name": "stdout",
     "output_type": "stream",
     "text": [
      "articles.txt  \u001b[0m\u001b[01;34mimages_to_check\u001b[0m/       test.csv       Untitled.ipynb\r\n",
      "config.local  \u001b[01;34mnotebooks_algorithms\u001b[0m/  test.csv.dvc\r\n",
      "\u001b[01;34mdata\u001b[0m/         \u001b[01;34mscripts\u001b[0m/               train.csv\r\n",
      "datasets.txt  \u001b[01;34mtasks_in_parts\u001b[0m/        train.csv.dvc\r\n"
     ]
    }
   ],
   "source": []
  },
  {
   "cell_type": "code",
   "execution_count": 11,
   "id": "11b7daf2",
   "metadata": {},
   "outputs": [],
   "source": [
    "train = pd.read_csv(\"train.csv\", index_col = 0)\n",
    "test = pd.read_csv(\"test.csv\", index_col = 0)"
   ]
  },
  {
   "cell_type": "code",
   "execution_count": 13,
   "id": "4e1e3c2c",
   "metadata": {},
   "outputs": [],
   "source": [
    "train[\"Sex\"] = train[\"Sex\"].replace({\"male\":1, \"female\":0})\n",
    "test[\"Sex\"] = test[\"Sex\"].replace({\"male\":1, \"female\":0})\n",
    "\n",
    "train[\"Age\"] = train[\"Age\"].fillna(train[\"Age\"].mean())\n",
    "test[\"Age\"] = test[\"Age\"].fillna(test[\"Age\"].mean())"
   ]
  },
  {
   "cell_type": "code",
   "execution_count": 16,
   "id": "be407cd0",
   "metadata": {},
   "outputs": [],
   "source": [
    "features_list = [\"Pclass\", \"Sex\", \"Age\",\"SibSp\", \"Parch\"]"
   ]
  },
  {
   "cell_type": "code",
   "execution_count": 17,
   "id": "547704a1",
   "metadata": {},
   "outputs": [],
   "source": [
    "test[features_list].to_csv(\"test1.csv\")\n",
    "train[features_list].to_csv(\"train1.csv\")"
   ]
  },
  {
   "cell_type": "code",
   "execution_count": 18,
   "id": "435d0009",
   "metadata": {},
   "outputs": [
    {
     "name": "stdout",
     "output_type": "stream",
     "text": [
      "articles.txt  \u001b[0m\u001b[01;34mimages_to_check\u001b[0m/       test1.csv     train.csv\r\n",
      "config.local  \u001b[01;34mnotebooks_algorithms\u001b[0m/  test.csv      train.csv.dvc\r\n",
      "\u001b[01;34mdata\u001b[0m/         \u001b[01;34mscripts\u001b[0m/               test.csv.dvc  Untitled.ipynb\r\n",
      "datasets.txt  \u001b[01;34mtasks_in_parts\u001b[0m/        train1.csv\r\n"
     ]
    }
   ],
   "source": [
    "ls"
   ]
  },
  {
   "cell_type": "code",
   "execution_count": null,
   "id": "97f75f04",
   "metadata": {},
   "outputs": [],
   "source": []
  }
 ],
 "metadata": {
  "kernelspec": {
   "display_name": "Python 3 (ipykernel)",
   "language": "python",
   "name": "python3"
  },
  "language_info": {
   "codemirror_mode": {
    "name": "ipython",
    "version": 3
   },
   "file_extension": ".py",
   "mimetype": "text/x-python",
   "name": "python",
   "nbconvert_exporter": "python",
   "pygments_lexer": "ipython3",
   "version": "3.8.10"
  }
 },
 "nbformat": 4,
 "nbformat_minor": 5
}
