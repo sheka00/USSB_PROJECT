{
  "cells": [
    {
      "cell_type": "code",
      "source": [
        "!pip install easyocr"
      ],
      "metadata": {
        "id": "Ag3FmwbyT16k",
        "outputId": "573b3050-2f5e-42a7-e442-19264100839e",
        "colab": {
          "base_uri": "https://localhost:8080/"
        }
      },
      "execution_count": 3,
      "outputs": [
        {
          "output_type": "stream",
          "name": "stdout",
          "text": [
            "Looking in indexes: https://pypi.org/simple, https://us-python.pkg.dev/colab-wheels/public/simple/\n",
            "Collecting easyocr\n",
            "  Downloading easyocr-1.6.2-py3-none-any.whl (2.9 MB)\n",
            "\u001b[K     |████████████████████████████████| 2.9 MB 6.6 MB/s \n",
            "\u001b[?25hRequirement already satisfied: numpy in /usr/local/lib/python3.7/dist-packages (from easyocr) (1.21.6)\n",
            "Requirement already satisfied: torch in /usr/local/lib/python3.7/dist-packages (from easyocr) (1.12.1+cu113)\n",
            "Collecting python-bidi\n",
            "  Downloading python_bidi-0.4.2-py2.py3-none-any.whl (30 kB)\n",
            "Requirement already satisfied: scipy in /usr/local/lib/python3.7/dist-packages (from easyocr) (1.7.3)\n",
            "Requirement already satisfied: Shapely in /usr/local/lib/python3.7/dist-packages (from easyocr) (1.8.5.post1)\n",
            "Collecting ninja\n",
            "  Downloading ninja-1.11.1-py2.py3-none-manylinux_2_12_x86_64.manylinux2010_x86_64.whl (145 kB)\n",
            "\u001b[K     |████████████████████████████████| 145 kB 54.1 MB/s \n",
            "\u001b[?25hRequirement already satisfied: torchvision>=0.5 in /usr/local/lib/python3.7/dist-packages (from easyocr) (0.13.1+cu113)\n",
            "Requirement already satisfied: PyYAML in /usr/local/lib/python3.7/dist-packages (from easyocr) (6.0)\n",
            "Requirement already satisfied: Pillow in /usr/local/lib/python3.7/dist-packages (from easyocr) (7.1.2)\n",
            "Collecting opencv-python-headless<=4.5.4.60\n",
            "  Downloading opencv_python_headless-4.5.4.60-cp37-cp37m-manylinux_2_17_x86_64.manylinux2014_x86_64.whl (47.6 MB)\n",
            "\u001b[K     |████████████████████████████████| 47.6 MB 1.2 MB/s \n",
            "\u001b[?25hRequirement already satisfied: scikit-image in /usr/local/lib/python3.7/dist-packages (from easyocr) (0.18.3)\n",
            "Collecting pyclipper\n",
            "  Downloading pyclipper-1.3.0.post3-cp37-cp37m-manylinux_2_5_x86_64.manylinux1_x86_64.whl (604 kB)\n",
            "\u001b[K     |████████████████████████████████| 604 kB 69.8 MB/s \n",
            "\u001b[?25hRequirement already satisfied: requests in /usr/local/lib/python3.7/dist-packages (from torchvision>=0.5->easyocr) (2.23.0)\n",
            "Requirement already satisfied: typing-extensions in /usr/local/lib/python3.7/dist-packages (from torchvision>=0.5->easyocr) (4.1.1)\n",
            "Requirement already satisfied: six in /usr/local/lib/python3.7/dist-packages (from python-bidi->easyocr) (1.15.0)\n",
            "Requirement already satisfied: chardet<4,>=3.0.2 in /usr/local/lib/python3.7/dist-packages (from requests->torchvision>=0.5->easyocr) (3.0.4)\n",
            "Requirement already satisfied: idna<3,>=2.5 in /usr/local/lib/python3.7/dist-packages (from requests->torchvision>=0.5->easyocr) (2.10)\n",
            "Requirement already satisfied: urllib3!=1.25.0,!=1.25.1,<1.26,>=1.21.1 in /usr/local/lib/python3.7/dist-packages (from requests->torchvision>=0.5->easyocr) (1.24.3)\n",
            "Requirement already satisfied: certifi>=2017.4.17 in /usr/local/lib/python3.7/dist-packages (from requests->torchvision>=0.5->easyocr) (2022.9.24)\n",
            "Requirement already satisfied: tifffile>=2019.7.26 in /usr/local/lib/python3.7/dist-packages (from scikit-image->easyocr) (2021.11.2)\n",
            "Requirement already satisfied: imageio>=2.3.0 in /usr/local/lib/python3.7/dist-packages (from scikit-image->easyocr) (2.9.0)\n",
            "Requirement already satisfied: matplotlib!=3.0.0,>=2.0.0 in /usr/local/lib/python3.7/dist-packages (from scikit-image->easyocr) (3.2.2)\n",
            "Requirement already satisfied: networkx>=2.0 in /usr/local/lib/python3.7/dist-packages (from scikit-image->easyocr) (2.6.3)\n",
            "Requirement already satisfied: PyWavelets>=1.1.1 in /usr/local/lib/python3.7/dist-packages (from scikit-image->easyocr) (1.3.0)\n",
            "Requirement already satisfied: kiwisolver>=1.0.1 in /usr/local/lib/python3.7/dist-packages (from matplotlib!=3.0.0,>=2.0.0->scikit-image->easyocr) (1.4.4)\n",
            "Requirement already satisfied: pyparsing!=2.0.4,!=2.1.2,!=2.1.6,>=2.0.1 in /usr/local/lib/python3.7/dist-packages (from matplotlib!=3.0.0,>=2.0.0->scikit-image->easyocr) (3.0.9)\n",
            "Requirement already satisfied: python-dateutil>=2.1 in /usr/local/lib/python3.7/dist-packages (from matplotlib!=3.0.0,>=2.0.0->scikit-image->easyocr) (2.8.2)\n",
            "Requirement already satisfied: cycler>=0.10 in /usr/local/lib/python3.7/dist-packages (from matplotlib!=3.0.0,>=2.0.0->scikit-image->easyocr) (0.11.0)\n",
            "Installing collected packages: python-bidi, pyclipper, opencv-python-headless, ninja, easyocr\n",
            "  Attempting uninstall: opencv-python-headless\n",
            "    Found existing installation: opencv-python-headless 4.6.0.66\n",
            "    Uninstalling opencv-python-headless-4.6.0.66:\n",
            "      Successfully uninstalled opencv-python-headless-4.6.0.66\n",
            "Successfully installed easyocr-1.6.2 ninja-1.11.1 opencv-python-headless-4.5.4.60 pyclipper-1.3.0.post3 python-bidi-0.4.2\n"
          ]
        }
      ]
    },
    {
      "cell_type": "code",
      "source": [
        "import easyocr\n",
        "reader = easyocr.Reader(['ru'])\n",
        "\n",
        "reader.readtext(\"https://sad9.ru/images/u/pages/107/2v-tot-god-osennyaya-pogoda-2-kl.png\")"
      ],
      "metadata": {
        "id": "wPJ262PyT19T",
        "outputId": "648ae494-9dbc-4756-bbb7-79cca6077aab",
        "colab": {
          "base_uri": "https://localhost:8080/"
        }
      },
      "execution_count": 4,
      "outputs": [
        {
          "output_type": "stream",
          "name": "stderr",
          "text": [
            "WARNING:easyocr.easyocr:CUDA not available - defaulting to CPU. Note: This module is much faster with a GPU.\n",
            "WARNING:easyocr.easyocr:Downloading detection model, please wait. This may take several minutes depending upon your network connection.\n"
          ]
        },
        {
          "output_type": "stream",
          "name": "stdout",
          "text": [
            "Progress: |██████████████████████████████████████████████████| 100.0% Complete"
          ]
        },
        {
          "output_type": "stream",
          "name": "stderr",
          "text": [
            "WARNING:easyocr.easyocr:Downloading recognition model, please wait. This may take several minutes depending upon your network connection.\n"
          ]
        },
        {
          "output_type": "stream",
          "name": "stdout",
          "text": [
            "Progress: |████████████████████████████████████████████████████| 104.8% Complete"
          ]
        },
        {
          "output_type": "execute_result",
          "data": {
            "text/plain": [
              "[([[55, 53], [689, 53], [689, 113], [55, 113]],\n",
              "  'В тот год осенняя погода',\n",
              "  0.9053818269007115),\n",
              " ([[54, 108], [653, 108], [653, 171], [54, 171]],\n",
              "  'Стояла долго на дворе,',\n",
              "  0.9524727865005829),\n",
              " ([[55, 165], [801, 165], [801, 231], [55, 231]],\n",
              "  'Зимы ждала, ждала природа:',\n",
              "  0.8435442823458049),\n",
              " ([[56, 224], [540, 224], [540, 276], [56, 276]],\n",
              "  'Снег выпал только',\n",
              "  0.9996459520207298),\n",
              " ([[550, 240], [582, 240], [582, 272], [550, 272]], 'В', 0.9570488003430491),\n",
              " ([[590, 230], [776, 230], [776, 284], [590, 284]],\n",
              "  'январе',\n",
              "  0.999966176314317),\n",
              " ([[55, 278], [1005, 278], [1005, 346], [55, 346]],\n",
              "  'На третье в ночь: Проснувшись рано,',\n",
              "  0.750923083968399),\n",
              " ([[55, 339], [667, 339], [667, 401], [55, 401]],\n",
              "  'В окно увидела Татьяна',\n",
              "  0.974040608060236),\n",
              " ([[50, 394], [720, 394], [720, 466], [50, 466]],\n",
              "  'Поутру побелевший двор;',\n",
              "  0.8555701797935228),\n",
              " ([[51, 452], [487, 452], [487, 530], [51, 530]],\n",
              "  'Куртины, кровли',\n",
              "  0.8317193893037439),\n",
              " ([[496, 468], [528, 468], [528, 502], [496, 502]], 'и', 0.3284325773098864),\n",
              " ([[530, 446], [710, 446], [710, 521], [530, 521]],\n",
              "  'забор;',\n",
              "  0.829772546573139),\n",
              " ([[55, 513], [699, 513], [699, 575], [55, 575]],\n",
              "  'На стеклах легкие узоры;',\n",
              "  0.8119881429514403),\n",
              " ([[53, 571], [523, 571], [523, 633], [53, 633]],\n",
              "  'Деревья в зимнем',\n",
              "  0.7011006922603287),\n",
              " ([[527, 564], [760, 564], [760, 637], [527, 637]],\n",
              "  'серебре,',\n",
              "  0.9376859217169179),\n",
              " ([[53, 622], [691, 622], [691, 696], [53, 696]],\n",
              "  'Сорок веселых на дворе',\n",
              "  0.9752787756423666),\n",
              " ([[62, 694], [92, 694], [92, 728], [62, 728]], 'И', 0.801491065660457),\n",
              " ([[105, 683], [677, 683], [677, 745], [105, 745]],\n",
              "  'мягко устланные горы',\n",
              "  0.9535456144950596),\n",
              " ([[55, 740], [827, 740], [827, 803], [55, 803]],\n",
              "  'Зимы блистательным ковром:',\n",
              "  0.9167789899162189),\n",
              " ([[53, 797], [731, 797], [731, 862], [53, 862]],\n",
              "  'Все ярко, все бело кругом.',\n",
              "  0.7443293456947839),\n",
              " ([[50, 914], [130, 914], [130, 940], [50, 940]], '$а9 г', 0.7925174395608608)]"
            ]
          },
          "metadata": {},
          "execution_count": 4
        }
      ]
    }
  ],
  "metadata": {
    "colab": {
      "collapsed_sections": [],
      "name": "Добро пожаловать в Colaboratory!",
      "toc_visible": true,
      "provenance": []
    },
    "kernelspec": {
      "display_name": "Python 3",
      "name": "python3"
    }
  },
  "nbformat": 4,
  "nbformat_minor": 0
}