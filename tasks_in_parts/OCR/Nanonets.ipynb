{
  "cells": [
    {
      "cell_type": "code",
      "source": [
        "!pip install ocr-nanonets-wrapper"
      ],
      "metadata": {
        "id": "SxZw_K6nUl2U",
        "outputId": "b8b74c3b-e11b-4dfe-fc86-aaf7c6ca43a3",
        "colab": {
          "base_uri": "https://localhost:8080/"
        }
      },
      "execution_count": 5,
      "outputs": [
        {
          "output_type": "stream",
          "name": "stdout",
          "text": [
            "Looking in indexes: https://pypi.org/simple, https://us-python.pkg.dev/colab-wheels/public/simple/\n",
            "Collecting ocr-nanonets-wrapper\n",
            "  Downloading ocr-nanonets-wrapper-1.1.tar.gz (4.2 kB)\n",
            "Requirement already satisfied: requests in /usr/local/lib/python3.7/dist-packages (from ocr-nanonets-wrapper) (2.23.0)\n",
            "Collecting fpdf\n",
            "  Downloading fpdf-1.7.2.tar.gz (39 kB)\n",
            "Requirement already satisfied: numpy in /usr/local/lib/python3.7/dist-packages (from ocr-nanonets-wrapper) (1.21.6)\n",
            "Requirement already satisfied: pandas in /usr/local/lib/python3.7/dist-packages (from ocr-nanonets-wrapper) (1.3.5)\n",
            "Requirement already satisfied: pytz>=2017.3 in /usr/local/lib/python3.7/dist-packages (from pandas->ocr-nanonets-wrapper) (2022.5)\n",
            "Requirement already satisfied: python-dateutil>=2.7.3 in /usr/local/lib/python3.7/dist-packages (from pandas->ocr-nanonets-wrapper) (2.8.2)\n",
            "Requirement already satisfied: six>=1.5 in /usr/local/lib/python3.7/dist-packages (from python-dateutil>=2.7.3->pandas->ocr-nanonets-wrapper) (1.15.0)\n",
            "Requirement already satisfied: idna<3,>=2.5 in /usr/local/lib/python3.7/dist-packages (from requests->ocr-nanonets-wrapper) (2.10)\n",
            "Requirement already satisfied: chardet<4,>=3.0.2 in /usr/local/lib/python3.7/dist-packages (from requests->ocr-nanonets-wrapper) (3.0.4)\n",
            "Requirement already satisfied: urllib3!=1.25.0,!=1.25.1,<1.26,>=1.21.1 in /usr/local/lib/python3.7/dist-packages (from requests->ocr-nanonets-wrapper) (1.24.3)\n",
            "Requirement already satisfied: certifi>=2017.4.17 in /usr/local/lib/python3.7/dist-packages (from requests->ocr-nanonets-wrapper) (2022.9.24)\n",
            "Building wheels for collected packages: ocr-nanonets-wrapper, fpdf\n",
            "  Building wheel for ocr-nanonets-wrapper (setup.py) ... \u001b[?25l\u001b[?25hdone\n",
            "  Created wheel for ocr-nanonets-wrapper: filename=ocr_nanonets_wrapper-1.1-py3-none-any.whl size=4721 sha256=880adfb50cfee46e5331771d8d4f87ab00e0f680f5db95b9cb3ce32f2d0152c6\n",
            "  Stored in directory: /root/.cache/pip/wheels/ea/8e/14/1eb6a872922462cd932ac82ae2978a32d182f2da9cc9d28f04\n",
            "  Building wheel for fpdf (setup.py) ... \u001b[?25l\u001b[?25hdone\n",
            "  Created wheel for fpdf: filename=fpdf-1.7.2-py2.py3-none-any.whl size=40725 sha256=b1180361804f6acd6b8eb8044ad305bbc957021130bc860dd6b236e97ad0605d\n",
            "  Stored in directory: /root/.cache/pip/wheels/d7/ca/c8/86467e7957bbbcbdf4cf4870fc7dc95e9a16404b2e3c3a98c3\n",
            "Successfully built ocr-nanonets-wrapper fpdf\n",
            "Installing collected packages: fpdf, ocr-nanonets-wrapper\n",
            "Successfully installed fpdf-1.7.2 ocr-nanonets-wrapper-1.1\n"
          ]
        }
      ]
    },
    {
      "cell_type": "code",
      "source": [
        "from nanonets import NANONETSOCR\n",
        "\n",
        "model = NANONETSOCR()\n",
        "model.set_token('9oaBV3LTmeM2oCqdA4Sf4debajLvap7L')\n",
        "\n",
        "string = model.image_to_string(\"https://sad9.ru/images/u/pages/107/2v-tot-god-osennyaya-pogoda-2-kl.png\")\n",
        "print(string)\n",
        "#русский язык не нашёл "
      ],
      "metadata": {
        "id": "axCylwECUl48",
        "outputId": "0506d098-21ab-49dc-9fa3-eacac0ed6113",
        "colab": {
          "base_uri": "https://localhost:8080/"
        }
      },
      "execution_count": 6,
      "outputs": [
        {
          "output_type": "stream",
          "name": "stdout",
          "text": [
            "B TOT roa OCEHHAA noroga CTOAna gonro Ha ABope , 3VMbI xnana, xAana npupona. Cher Bbinan TONbKO B AHBape Ha TpeTbe B HOYb. NpochybwnCb paho , B OKHO yBngena TaTbAHa Noytpy no6eneBwnn ABop , KypTMHbI, KpoBnn V 3a6op, Ha cteknax nerkne y3opbI, AepeBbA B 3VMHEM cepe6pe, Copok BecenbIX Ha ABope M MATKO yctnaHHbIe ropbI 3yMbI 6nnctaTebHbIM KOBPOM . Bce APKO , Bce 6eno KpyroM. . sa9.ru \n"
          ]
        }
      ]
    },
    {
      "cell_type": "code",
      "source": [],
      "metadata": {
        "id": "CDnEN7uaUl7c"
      },
      "execution_count": 6,
      "outputs": []
    },
    {
      "cell_type": "code",
      "source": [],
      "metadata": {
        "id": "0oTPRwiKUl9d"
      },
      "execution_count": 6,
      "outputs": []
    }
  ],
  "metadata": {
    "colab": {
      "collapsed_sections": [],
      "name": "Добро пожаловать в Colaboratory!",
      "toc_visible": true,
      "provenance": []
    },
    "kernelspec": {
      "display_name": "Python 3",
      "name": "python3"
    }
  },
  "nbformat": 4,
  "nbformat_minor": 0
}