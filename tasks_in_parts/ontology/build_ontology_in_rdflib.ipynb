{
  "cells": [
    {
      "cell_type": "code",
      "source": [
        "!pip install rdflib"
      ],
      "metadata": {
        "id": "Q-lTygy8a1Jr"
      },
      "execution_count": null,
      "outputs": []
    },
    {
      "cell_type": "code",
      "source": [
        "!pip install git+https://github.com/RDFLib/rdflib.git@main#egg=rdflib"
      ],
      "metadata": {
        "id": "V-dNaFuda1MC"
      },
      "execution_count": null,
      "outputs": []
    },
    {
      "cell_type": "code",
      "source": [
        "from rdflib import Graph\n",
        "\n",
        "g = Graph()\n",
        "g.parse(\n",
        "    data=\"\"\"\n",
        "        <dad:> a <blanket:> .\n",
        "        <mom:> a <blanket:> .\n",
        "    \"\"\",\n",
        "    format=\"turtle\"\n",
        ")\n",
        "\n",
        "qres = g.query(\"\"\"SELECT ?s WHERE { ?s a <blanket:> }\"\"\")\n",
        "\n",
        "for row in qres:\n",
        "    print(f\"{row.s}\")\n"
      ],
      "metadata": {
        "id": "ZnhA465q7qNO",
        "outputId": "c5b9e6a3-872f-45ce-e4d1-3d023084f787",
        "colab": {
          "base_uri": "https://localhost:8080/"
        }
      },
      "execution_count": 21,
      "outputs": [
        {
          "output_type": "stream",
          "name": "stdout",
          "text": [
            "dad:\n",
            "mom:\n"
          ]
        }
      ]
    },
    {
      "cell_type": "code",
      "source": [
        "g.update(\"\"\"INSERT DATA { <brother:> a <blanket:> }\"\"\")\n",
        "\n",
        "qres = g.query(\"\"\"SELECT ?s WHERE { ?s a <blanket:> }\"\"\")\n",
        "\n",
        "print(\"After update:\")\n",
        "for row in qres:\n",
        "    print(f\"{row.s}\")"
      ],
      "metadata": {
        "id": "I07Nbmve8GZ2",
        "outputId": "a4a6b00b-de04-478c-9bd8-402ceb20339b",
        "colab": {
          "base_uri": "https://localhost:8080/"
        }
      },
      "execution_count": 23,
      "outputs": [
        {
          "output_type": "stream",
          "name": "stdout",
          "text": [
            "After update:\n",
            "dad:\n",
            "mom:\n",
            "brother:\n"
          ]
        }
      ]
    },
    {
      "cell_type": "code",
      "source": [
        "g.update(\"\"\"\n",
        "         DELETE { <brother:> a <blanket:> }\n",
        "         INSERT { <sister:> a <blanket:> }\n",
        "         WHERE { <brother:> a <blanket:> }\n",
        "         \"\"\")\n",
        "print(\"After second update:\")\n",
        "qres = g.query(\"\"\"SELECT ?s ?o WHERE { ?s a ?o }\"\"\")\n",
        "for row in qres:\n",
        "    print(f\"{row.s} a {row.o}\")\n"
      ],
      "metadata": {
        "id": "8FvyP_-DcFcp",
        "outputId": "5782d4a4-5480-4bf8-a947-cdbd88d1b2d4",
        "colab": {
          "base_uri": "https://localhost:8080/"
        }
      },
      "execution_count": 24,
      "outputs": [
        {
          "output_type": "stream",
          "name": "stdout",
          "text": [
            "After second update:\n",
            "dad: a blanket:\n",
            "mom: a blanket:\n",
            "sister: a blanket:\n"
          ]
        }
      ]
    },
    {
      "cell_type": "code",
      "source": [
        "'''\n",
        "PREFIX eg: <http://example.com/person/>\n",
        "PREFIX foaf: <http://xmlns.com/foaf/0.1/>\n",
        "\n",
        "eg:graph-1 {\n",
        "    eg:drewp a foaf:Person .\n",
        "    eg:drewp eg:says \"Hello World\" .\n",
        "}\n",
        "\n",
        "eg:graph-2 {\n",
        "    eg:nick a foaf:Person .\n",
        "    eg:nick eg:says \"Hi World\" .\n",
        "}\n",
        "'''"
      ],
      "metadata": {
        "id": "hFzq2SNm9Fdu"
      },
      "execution_count": null,
      "outputs": []
    },
    {
      "cell_type": "code",
      "source": [
        "from rdflib import Dataset\n",
        "from rdflib.namespace import RDF\n",
        "\n",
        "g = Dataset()\n",
        "g.parse(\"demo.trig\")\n",
        "\n",
        "for s, p, o, g in g:\n",
        "    print(s, p, o)"
      ],
      "metadata": {
        "id": "sTvs7N8Va1RM",
        "outputId": "d64a7765-27c5-48ff-cce7-ba5dd257a5ee",
        "colab": {
          "base_uri": "https://localhost:8080/"
        }
      },
      "execution_count": 31,
      "outputs": [
        {
          "output_type": "stream",
          "name": "stdout",
          "text": [
            "http://example.com/person/nick http://www.w3.org/1999/02/22-rdf-syntax-ns#type http://xmlns.com/foaf/0.1/Person\n",
            "http://example.com/person/drewp http://example.com/person/says Hello World\n",
            "http://example.com/person/nick http://example.com/person/says Hi World\n",
            "http://example.com/person/drewp http://www.w3.org/1999/02/22-rdf-syntax-ns#type http://xmlns.com/foaf/0.1/Person\n"
          ]
        }
      ]
    },
    {
      "cell_type": "code",
      "source": [],
      "metadata": {
        "id": "kCvWwr6ma1T0"
      },
      "execution_count": null,
      "outputs": []
    },
    {
      "cell_type": "code",
      "source": [],
      "metadata": {
        "id": "q-7VF4Y6a1WS"
      },
      "execution_count": null,
      "outputs": []
    },
    {
      "cell_type": "code",
      "source": [],
      "metadata": {
        "id": "2UlHRe14a1Y6"
      },
      "execution_count": null,
      "outputs": []
    },
    {
      "cell_type": "code",
      "source": [],
      "metadata": {
        "id": "mFJJpWwCa1b2"
      },
      "execution_count": null,
      "outputs": []
    }
  ],
  "metadata": {
    "colab": {
      "name": "Добро пожаловать в Colaboratory!",
      "provenance": []
    },
    "kernelspec": {
      "display_name": "Python 3",
      "name": "python3"
    }
  },
  "nbformat": 4,
  "nbformat_minor": 0
}