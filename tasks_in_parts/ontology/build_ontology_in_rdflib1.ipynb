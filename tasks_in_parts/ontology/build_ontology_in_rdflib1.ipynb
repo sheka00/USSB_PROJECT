{
  "nbformat": 4,
  "nbformat_minor": 0,
  "metadata": {
    "colab": {
      "provenance": []
    },
    "kernelspec": {
      "name": "python3",
      "display_name": "Python 3"
    },
    "language_info": {
      "name": "python"
    }
  },
  "cells": [
    {
      "cell_type": "code",
      "source": [
        "#https://derwen.ai/docs/kgl/ex1_0/"
      ],
      "metadata": {
        "id": "Q6TXQXfXEsUv"
      },
      "execution_count": null,
      "outputs": []
    },
    {
      "cell_type": "code",
      "source": [
        "!pip install rdflib"
      ],
      "metadata": {
        "colab": {
          "base_uri": "https://localhost:8080/"
        },
        "id": "swttBxC5C-qD",
        "outputId": "b7ee73ba-0837-4468-f44f-8c6d2edfc400"
      },
      "execution_count": 2,
      "outputs": [
        {
          "output_type": "stream",
          "name": "stdout",
          "text": [
            "Looking in indexes: https://pypi.org/simple, https://us-python.pkg.dev/colab-wheels/public/simple/\n",
            "Collecting rdflib\n",
            "  Downloading rdflib-6.3.2-py3-none-any.whl (528 kB)\n",
            "\u001b[2K     \u001b[90m━━━━━━━━━━━━━━━━━━━━━━━━━━━━━━━━━━━━━━━\u001b[0m \u001b[32m528.1/528.1 kB\u001b[0m \u001b[31m8.3 MB/s\u001b[0m eta \u001b[36m0:00:00\u001b[0m\n",
            "\u001b[?25hCollecting isodate<0.7.0,>=0.6.0 (from rdflib)\n",
            "  Downloading isodate-0.6.1-py2.py3-none-any.whl (41 kB)\n",
            "\u001b[2K     \u001b[90m━━━━━━━━━━━━━━━━━━━━━━━━━━━━━━━━━━━━━━━━\u001b[0m \u001b[32m41.7/41.7 kB\u001b[0m \u001b[31m4.3 MB/s\u001b[0m eta \u001b[36m0:00:00\u001b[0m\n",
            "\u001b[?25hRequirement already satisfied: pyparsing<4,>=2.1.0 in /usr/local/lib/python3.10/dist-packages (from rdflib) (3.0.9)\n",
            "Requirement already satisfied: six in /usr/local/lib/python3.10/dist-packages (from isodate<0.7.0,>=0.6.0->rdflib) (1.16.0)\n",
            "Installing collected packages: isodate, rdflib\n",
            "Successfully installed isodate-0.6.1 rdflib-6.3.2\n"
          ]
        }
      ]
    },
    {
      "cell_type": "code",
      "execution_count": 3,
      "metadata": {
        "id": "oLA6xKd-C25g"
      },
      "outputs": [],
      "source": [
        "import rdflib\n",
        "\n",
        "g = rdflib.Graph()"
      ]
    },
    {
      "cell_type": "code",
      "source": [
        "uri = \"https://www.food.com/recipe/327593\"\n",
        "s = rdflib.URIRef(uri)\n",
        "s"
      ],
      "metadata": {
        "colab": {
          "base_uri": "https://localhost:8080/",
          "height": 35
        },
        "id": "z0HdTEEmC4Kw",
        "outputId": "19571516-b055-4598-b572-27bd9b438ba9"
      },
      "execution_count": 4,
      "outputs": [
        {
          "output_type": "execute_result",
          "data": {
            "text/plain": [
              "rdflib.term.URIRef('https://www.food.com/recipe/327593')"
            ],
            "application/vnd.google.colaboratory.intrinsic+json": {
              "type": "string"
            }
          },
          "metadata": {},
          "execution_count": 4
        }
      ]
    },
    {
      "cell_type": "code",
      "source": [
        "from rdflib.namespace import RDF\n",
        "\n",
        "p = RDF.type\n",
        "p"
      ],
      "metadata": {
        "colab": {
          "base_uri": "https://localhost:8080/",
          "height": 35
        },
        "id": "4bmNa6y7C4NO",
        "outputId": "9f37da07-27f9-4f01-bb2e-0e4fb57785d5"
      },
      "execution_count": 5,
      "outputs": [
        {
          "output_type": "execute_result",
          "data": {
            "text/plain": [
              "rdflib.term.URIRef('http://www.w3.org/1999/02/22-rdf-syntax-ns#type')"
            ],
            "application/vnd.google.colaboratory.intrinsic+json": {
              "type": "string"
            }
          },
          "metadata": {},
          "execution_count": 5
        }
      ]
    },
    {
      "cell_type": "code",
      "source": [
        "nm = g.namespace_manager\n",
        "nm"
      ],
      "metadata": {
        "colab": {
          "base_uri": "https://localhost:8080/"
        },
        "id": "9d7kVxXQC4P2",
        "outputId": "74bbdf6c-d7a0-4fb6-a5b2-6bf7ed5e7807"
      },
      "execution_count": 7,
      "outputs": [
        {
          "output_type": "execute_result",
          "data": {
            "text/plain": [
              "<rdflib.namespace.NamespaceManager at 0x7f1f07c03970>"
            ]
          },
          "metadata": {},
          "execution_count": 7
        }
      ]
    },
    {
      "cell_type": "code",
      "source": [
        "uri = \"http://purl.org/heals/food/\"\n",
        "ns_wtm = rdflib.Namespace(uri)\n",
        "\n",
        "prefix = \"wtm\"\n",
        "nm.bind(prefix, ns_wtm)"
      ],
      "metadata": {
        "id": "XUnXokTXC4SB"
      },
      "execution_count": 8,
      "outputs": []
    },
    {
      "cell_type": "code",
      "source": [
        "o = ns_wtm.Recipe\n",
        "o"
      ],
      "metadata": {
        "colab": {
          "base_uri": "https://localhost:8080/",
          "height": 35
        },
        "id": "Djo14HQpC4Uf",
        "outputId": "2f9fd2e4-a1fd-4740-8fdc-8fc57a3511b7"
      },
      "execution_count": 9,
      "outputs": [
        {
          "output_type": "execute_result",
          "data": {
            "text/plain": [
              "rdflib.term.URIRef('http://purl.org/heals/food/Recipe')"
            ],
            "application/vnd.google.colaboratory.intrinsic+json": {
              "type": "string"
            }
          },
          "metadata": {},
          "execution_count": 9
        }
      ]
    },
    {
      "cell_type": "code",
      "source": [
        "g.add((s, p, o,))\n",
        "g"
      ],
      "metadata": {
        "colab": {
          "base_uri": "https://localhost:8080/"
        },
        "id": "a468fsZxC4W-",
        "outputId": "23584569-e823-4e86-cb9b-5ec1a87d09fc"
      },
      "execution_count": 10,
      "outputs": [
        {
          "output_type": "execute_result",
          "data": {
            "text/plain": [
              "<Graph identifier=Nd4cedca7af91413186927462fdf527b8 (<class 'rdflib.graph.Graph'>)>"
            ]
          },
          "metadata": {},
          "execution_count": 10
        }
      ]
    },
    {
      "cell_type": "code",
      "source": [
        "p = ns_wtm.hasCookTime\n",
        "p"
      ],
      "metadata": {
        "colab": {
          "base_uri": "https://localhost:8080/",
          "height": 35
        },
        "id": "7e5jljVlC92_",
        "outputId": "f2c17c2d-ef07-4649-fc5b-836236831091"
      },
      "execution_count": 11,
      "outputs": [
        {
          "output_type": "execute_result",
          "data": {
            "text/plain": [
              "rdflib.term.URIRef('http://purl.org/heals/food/hasCookTime')"
            ],
            "application/vnd.google.colaboratory.intrinsic+json": {
              "type": "string"
            }
          },
          "metadata": {},
          "execution_count": 11
        }
      ]
    },
    {
      "cell_type": "code",
      "source": [
        "from rdflib.namespace import XSD\n",
        "\n",
        "o = rdflib.Literal(\"8\", datatype=XSD.integer)\n",
        "o"
      ],
      "metadata": {
        "colab": {
          "base_uri": "https://localhost:8080/",
          "height": 54
        },
        "id": "5ALmwZ46C4Zm",
        "outputId": "9cd99ca5-d3d1-4ff7-cd53-ea88f3481176"
      },
      "execution_count": 12,
      "outputs": [
        {
          "output_type": "execute_result",
          "data": {
            "text/plain": [
              "rdflib.term.Literal('8', datatype=rdflib.term.URIRef('http://www.w3.org/2001/XMLSchema#integer'))"
            ],
            "application/vnd.google.colaboratory.intrinsic+json": {
              "type": "string"
            }
          },
          "metadata": {},
          "execution_count": 12
        }
      ]
    },
    {
      "cell_type": "code",
      "source": [
        "g.add((s, p, o,))"
      ],
      "metadata": {
        "colab": {
          "base_uri": "https://localhost:8080/"
        },
        "id": "kARW9RlVC4bv",
        "outputId": "4953d2ba-d68c-4fb5-bb36-6a8b71eaaf49"
      },
      "execution_count": 13,
      "outputs": [
        {
          "output_type": "execute_result",
          "data": {
            "text/plain": [
              "<Graph identifier=Nd4cedca7af91413186927462fdf527b8 (<class 'rdflib.graph.Graph'>)>"
            ]
          },
          "metadata": {},
          "execution_count": 13
        }
      ]
    },
    {
      "cell_type": "code",
      "source": [
        "p = ns_wtm.hasIngredient\n",
        "p"
      ],
      "metadata": {
        "colab": {
          "base_uri": "https://localhost:8080/",
          "height": 35
        },
        "id": "HtOmKu_6C4eG",
        "outputId": "47c42c61-898e-402c-b062-d4890240213f"
      },
      "execution_count": 14,
      "outputs": [
        {
          "output_type": "execute_result",
          "data": {
            "text/plain": [
              "rdflib.term.URIRef('http://purl.org/heals/food/hasIngredient')"
            ],
            "application/vnd.google.colaboratory.intrinsic+json": {
              "type": "string"
            }
          },
          "metadata": {},
          "execution_count": 14
        }
      ]
    },
    {
      "cell_type": "code",
      "source": [
        "uri = \"http://purl.org/heals/ingredient/\"\n",
        "ns_ind = rdflib.Namespace(uri)\n",
        "\n",
        "prefix = \"ind\"\n",
        "nm.bind(prefix, ns_ind)"
      ],
      "metadata": {
        "id": "GlSv-Xv-C4gv"
      },
      "execution_count": 15,
      "outputs": []
    },
    {
      "cell_type": "code",
      "source": [
        "o = ns_ind.ChickenEgg\n",
        "o"
      ],
      "metadata": {
        "colab": {
          "base_uri": "https://localhost:8080/",
          "height": 35
        },
        "id": "0jwrJrQ4C4jH",
        "outputId": "ae58f26d-6a2b-4fff-ac4f-121369fce0d3"
      },
      "execution_count": 18,
      "outputs": [
        {
          "output_type": "execute_result",
          "data": {
            "text/plain": [
              "rdflib.term.URIRef('http://purl.org/heals/ingredient/ChickenEgg')"
            ],
            "application/vnd.google.colaboratory.intrinsic+json": {
              "type": "string"
            }
          },
          "metadata": {},
          "execution_count": 18
        }
      ]
    },
    {
      "cell_type": "code",
      "source": [
        "g.add((s, p, o,))"
      ],
      "metadata": {
        "colab": {
          "base_uri": "https://localhost:8080/"
        },
        "id": "UVkpAAoAC4l4",
        "outputId": "6654a310-7055-42d4-f117-65676b775ffc"
      },
      "execution_count": 19,
      "outputs": [
        {
          "output_type": "execute_result",
          "data": {
            "text/plain": [
              "<Graph identifier=Nd4cedca7af91413186927462fdf527b8 (<class 'rdflib.graph.Graph'>)>"
            ]
          },
          "metadata": {},
          "execution_count": 19
        }
      ]
    },
    {
      "cell_type": "code",
      "source": [
        "g.add((s, p, ns_ind.CowMilk,))\n",
        "g.add((s, p, ns_ind.WholeWheatFlour,))"
      ],
      "metadata": {
        "colab": {
          "base_uri": "https://localhost:8080/"
        },
        "id": "aMqKqZqLC4oZ",
        "outputId": "56459e36-1cc0-49b2-a595-c090d850c5ae"
      },
      "execution_count": 20,
      "outputs": [
        {
          "output_type": "execute_result",
          "data": {
            "text/plain": [
              "<Graph identifier=Nd4cedca7af91413186927462fdf527b8 (<class 'rdflib.graph.Graph'>)>"
            ]
          },
          "metadata": {},
          "execution_count": 20
        }
      ]
    },
    {
      "cell_type": "code",
      "source": [
        "for s, p, o in g:\n",
        "    print(s, p, o)"
      ],
      "metadata": {
        "colab": {
          "base_uri": "https://localhost:8080/"
        },
        "id": "8fOYroDCC4rQ",
        "outputId": "a684689d-cd7a-48e5-ce4a-c9a753c368bc"
      },
      "execution_count": 21,
      "outputs": [
        {
          "output_type": "stream",
          "name": "stdout",
          "text": [
            "https://www.food.com/recipe/327593 http://purl.org/heals/food/hasCookTime 8\n",
            "https://www.food.com/recipe/327593 http://purl.org/heals/food/hasIngredient http://purl.org/heals/ingredient/ChickenEgg\n",
            "https://www.food.com/recipe/327593 http://purl.org/heals/food/hasIngredient http://purl.org/heals/ingredient/WholeWheatFlour\n",
            "https://www.food.com/recipe/327593 http://www.w3.org/1999/02/22-rdf-syntax-ns#type http://purl.org/heals/food/Recipe\n",
            "https://www.food.com/recipe/327593 http://purl.org/heals/food/hasIngredient http://purl.org/heals/ingredient/CowMilk\n"
          ]
        }
      ]
    },
    {
      "cell_type": "code",
      "source": [],
      "metadata": {
        "id": "g0ffEgyMDIeG"
      },
      "execution_count": null,
      "outputs": []
    },
    {
      "cell_type": "code",
      "source": [],
      "metadata": {
        "id": "6n-DfS2qDIg2"
      },
      "execution_count": null,
      "outputs": []
    },
    {
      "cell_type": "code",
      "source": [
        "s = g.serialize(format=\"ttl\")\n",
        "print(s)"
      ],
      "metadata": {
        "colab": {
          "base_uri": "https://localhost:8080/"
        },
        "id": "8bTzsq3iDImW",
        "outputId": "1d0776fc-e7a9-4279-ec30-199c9f44adb3"
      },
      "execution_count": 22,
      "outputs": [
        {
          "output_type": "stream",
          "name": "stdout",
          "text": [
            "@prefix ind: <http://purl.org/heals/ingredient/> .\n",
            "@prefix wtm: <http://purl.org/heals/food/> .\n",
            "@prefix xsd: <http://www.w3.org/2001/XMLSchema#> .\n",
            "\n",
            "<https://www.food.com/recipe/327593> a wtm:Recipe ;\n",
            "    wtm:hasCookTime 8 ;\n",
            "    wtm:hasIngredient ind:ChickenEgg,\n",
            "        ind:CowMilk,\n",
            "        ind:WholeWheatFlour .\n",
            "\n",
            "\n"
          ]
        }
      ]
    },
    {
      "cell_type": "code",
      "source": [
        "g.serialize(destination=\"tmp.ttl\", format=\"ttl\", encoding=\"utf-8\") ;"
      ],
      "metadata": {
        "id": "vY2R7c1QDrPX"
      },
      "execution_count": 23,
      "outputs": []
    },
    {
      "cell_type": "code",
      "source": [
        "data = g.serialize(\n",
        "    format=\"json-ld\",\n",
        "    indent=2,\n",
        "    encoding=\"utf-8\",\n",
        "    )\n",
        "\n",
        "with open(\"tmp.jsonld\", \"wb\") as f:\n",
        "    f.write(data)"
      ],
      "metadata": {
        "id": "lSahelPTDsWn"
      },
      "execution_count": 24,
      "outputs": []
    },
    {
      "cell_type": "code",
      "source": [
        "for line in open('/content/tmp.jsonld'):\n",
        "  print(line)"
      ],
      "metadata": {
        "colab": {
          "base_uri": "https://localhost:8080/"
        },
        "id": "Ue1-oo53ERN3",
        "outputId": "aada2987-c62f-4e9d-a78b-88234f04fad2"
      },
      "execution_count": 28,
      "outputs": [
        {
          "output_type": "stream",
          "name": "stdout",
          "text": [
            "[\n",
            "\n",
            "  {\n",
            "\n",
            "    \"@id\": \"https://www.food.com/recipe/327593\",\n",
            "\n",
            "    \"@type\": [\n",
            "\n",
            "      \"http://purl.org/heals/food/Recipe\"\n",
            "\n",
            "    ],\n",
            "\n",
            "    \"http://purl.org/heals/food/hasCookTime\": [\n",
            "\n",
            "      {\n",
            "\n",
            "        \"@value\": 8\n",
            "\n",
            "      }\n",
            "\n",
            "    ],\n",
            "\n",
            "    \"http://purl.org/heals/food/hasIngredient\": [\n",
            "\n",
            "      {\n",
            "\n",
            "        \"@id\": \"http://purl.org/heals/ingredient/ChickenEgg\"\n",
            "\n",
            "      },\n",
            "\n",
            "      {\n",
            "\n",
            "        \"@id\": \"http://purl.org/heals/ingredient/CowMilk\"\n",
            "\n",
            "      },\n",
            "\n",
            "      {\n",
            "\n",
            "        \"@id\": \"http://purl.org/heals/ingredient/WholeWheatFlour\"\n",
            "\n",
            "      }\n",
            "\n",
            "    ]\n",
            "\n",
            "  }\n",
            "\n",
            "]\n"
          ]
        }
      ]
    },
    {
      "cell_type": "code",
      "source": [
        "context = {\n",
        "    \"@language\": \"en\",\n",
        "    \"wtm\": \"http://purl.org/heals/food/\",\n",
        "    \"ind\": \"http://purl.org/heals/ingredient/\",\n",
        "    }"
      ],
      "metadata": {
        "id": "BpfgBBgQDtOn"
      },
      "execution_count": 25,
      "outputs": []
    },
    {
      "cell_type": "code",
      "source": [
        "context"
      ],
      "metadata": {
        "colab": {
          "base_uri": "https://localhost:8080/"
        },
        "id": "7Hr-w02LDuB_",
        "outputId": "ad715e00-2168-45eb-c051-4cdb8d0dc9a4"
      },
      "execution_count": 26,
      "outputs": [
        {
          "output_type": "execute_result",
          "data": {
            "text/plain": [
              "{'@language': 'en',\n",
              " 'wtm': 'http://purl.org/heals/food/',\n",
              " 'ind': 'http://purl.org/heals/ingredient/'}"
            ]
          },
          "metadata": {},
          "execution_count": 26
        }
      ]
    },
    {
      "cell_type": "code",
      "source": [
        "data = g.serialize(\n",
        "    format=\"json-ld\",\n",
        "    context=context,\n",
        "    indent=2,\n",
        "    encoding=\"utf-8\",\n",
        "    )\n",
        "\n",
        "with open(\"tmp.jsonld\", \"wb\") as f:\n",
        "    f.write(data)"
      ],
      "metadata": {
        "id": "I3p3UNbtDu23"
      },
      "execution_count": 29,
      "outputs": []
    },
    {
      "cell_type": "code",
      "source": [
        "for line in open('tmp.jsonld'):\n",
        "  print(line)"
      ],
      "metadata": {
        "colab": {
          "base_uri": "https://localhost:8080/"
        },
        "id": "WCul7Fe5Edeu",
        "outputId": "e5ead265-a962-4756-8df6-8af9d3f8c97f"
      },
      "execution_count": 30,
      "outputs": [
        {
          "output_type": "stream",
          "name": "stdout",
          "text": [
            "{\n",
            "\n",
            "  \"@context\": {\n",
            "\n",
            "    \"@language\": \"en\",\n",
            "\n",
            "    \"ind\": \"http://purl.org/heals/ingredient/\",\n",
            "\n",
            "    \"wtm\": \"http://purl.org/heals/food/\"\n",
            "\n",
            "  },\n",
            "\n",
            "  \"@id\": \"https://www.food.com/recipe/327593\",\n",
            "\n",
            "  \"@type\": \"wtm:Recipe\",\n",
            "\n",
            "  \"wtm:hasCookTime\": 8,\n",
            "\n",
            "  \"wtm:hasIngredient\": [\n",
            "\n",
            "    {\n",
            "\n",
            "      \"@id\": \"ind:ChickenEgg\"\n",
            "\n",
            "    },\n",
            "\n",
            "    {\n",
            "\n",
            "      \"@id\": \"ind:CowMilk\"\n",
            "\n",
            "    },\n",
            "\n",
            "    {\n",
            "\n",
            "      \"@id\": \"ind:WholeWheatFlour\"\n",
            "\n",
            "    }\n",
            "\n",
            "  ]\n",
            "\n",
            "}\n"
          ]
        }
      ]
    }
  ]
}