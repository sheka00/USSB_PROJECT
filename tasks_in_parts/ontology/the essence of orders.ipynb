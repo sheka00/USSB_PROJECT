{
  "cells": [
    {
      "cell_type": "code",
      "source": [
        "import enum\n",
        "\n",
        "\n",
        "class Post(enum.Enum):\n",
        "    Admin = 1\n",
        "    Owner = 2\n",
        "    Programmer = 3\n",
        "    # .\n",
        "    # .\n",
        "    # .\n",
        "\n",
        "\n",
        "class Person:\n",
        "    def __init__(self, post, name):\n",
        "        self.post = post  # (Post)\n",
        "        self.name = name  # (string)\n",
        "\n",
        "\n",
        "class Task:\n",
        "    def __init__(self, date, responsible, desription_task):\n",
        "        self.date = date  # datetime\n",
        "        self.responsible = responsible  # (Person)\n",
        "        self.desription_task = desription_task  # (string)\n",
        "\n",
        "\n",
        "class Order:\n",
        "    def __init__(self, date, event, list_task):\n",
        "        self.date = date  # datetime\n",
        "        self.event = event  # (string)\n",
        "        self.list_task = list_task  # (list Task)\n",
        "\n",
        "\n",
        "class Company:\n",
        "    def __init__(self, owner, list_order):\n",
        "        self.owner = owner  # (Person)\n",
        "        self.list_order = list_order  # (list Order)\n"
      ],
      "metadata": {
        "id": "OVt3gFOkdKAx"
      },
      "execution_count": null,
      "outputs": []
    },
    {
      "cell_type": "code",
      "source": [],
      "metadata": {
        "id": "lTtG-Xs-dKDA"
      },
      "execution_count": null,
      "outputs": []
    },
    {
      "cell_type": "code",
      "source": [],
      "metadata": {
        "id": "Kg07QEvndKFg"
      },
      "execution_count": null,
      "outputs": []
    },
    {
      "cell_type": "code",
      "source": [],
      "metadata": {
        "id": "e0MKQXwZdKHg"
      },
      "execution_count": null,
      "outputs": []
    },
    {
      "cell_type": "code",
      "source": [],
      "metadata": {
        "id": "MHHHsMGJdKJx"
      },
      "execution_count": null,
      "outputs": []
    }
  ],
  "metadata": {
    "colab": {
      "name": "Добро пожаловать в Colaboratory!",
      "toc_visible": true,
      "provenance": []
    },
    "kernelspec": {
      "display_name": "Python 3",
      "name": "python3"
    }
  },
  "nbformat": 4,
  "nbformat_minor": 0
}