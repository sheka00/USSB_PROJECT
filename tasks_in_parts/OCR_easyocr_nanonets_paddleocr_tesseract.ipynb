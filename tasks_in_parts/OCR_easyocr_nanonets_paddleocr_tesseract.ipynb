{
  "cells": [
    {
      "cell_type": "markdown",
      "source": [
        "#Easyocr"
      ],
      "metadata": {
        "id": "VvfDunHaB1F2"
      }
    },
    {
      "cell_type": "code",
      "source": [
        "!pip install easyocr"
      ],
      "metadata": {
        "id": "_urmN6kkqOex",
        "outputId": "5442bee5-6aa9-48d5-ea5e-082a3142b90e",
        "colab": {
          "base_uri": "https://localhost:8080/"
        }
      },
      "execution_count": 3,
      "outputs": [
        {
          "output_type": "stream",
          "name": "stdout",
          "text": [
            "Looking in indexes: https://pypi.org/simple, https://us-python.pkg.dev/colab-wheels/public/simple/\n",
            "Collecting easyocr\n",
            "  Downloading easyocr-1.6.2-py3-none-any.whl (2.9 MB)\n",
            "\u001b[K     |████████████████████████████████| 2.9 MB 5.3 MB/s \n",
            "\u001b[?25hCollecting opencv-python-headless<=4.5.4.60\n",
            "  Downloading opencv_python_headless-4.5.4.60-cp37-cp37m-manylinux_2_17_x86_64.manylinux2014_x86_64.whl (47.6 MB)\n",
            "\u001b[K     |████████████████████████████████| 47.6 MB 1.3 MB/s \n",
            "\u001b[?25hRequirement already satisfied: torchvision>=0.5 in /usr/local/lib/python3.7/dist-packages (from easyocr) (0.13.1+cu113)\n",
            "Collecting ninja\n",
            "  Downloading ninja-1.10.2.4-py2.py3-none-manylinux_2_5_x86_64.manylinux1_x86_64.whl (120 kB)\n",
            "\u001b[K     |████████████████████████████████| 120 kB 59.3 MB/s \n",
            "\u001b[?25hCollecting python-bidi\n",
            "  Downloading python_bidi-0.4.2-py2.py3-none-any.whl (30 kB)\n",
            "Requirement already satisfied: Shapely in /usr/local/lib/python3.7/dist-packages (from easyocr) (1.8.5.post1)\n",
            "Collecting pyclipper\n",
            "  Downloading pyclipper-1.3.0.post3-cp37-cp37m-manylinux_2_5_x86_64.manylinux1_x86_64.whl (604 kB)\n",
            "\u001b[K     |████████████████████████████████| 604 kB 51.4 MB/s \n",
            "\u001b[?25hRequirement already satisfied: numpy in /usr/local/lib/python3.7/dist-packages (from easyocr) (1.21.6)\n",
            "Requirement already satisfied: Pillow in /usr/local/lib/python3.7/dist-packages (from easyocr) (7.1.2)\n",
            "Requirement already satisfied: torch in /usr/local/lib/python3.7/dist-packages (from easyocr) (1.12.1+cu113)\n",
            "Requirement already satisfied: scikit-image in /usr/local/lib/python3.7/dist-packages (from easyocr) (0.18.3)\n",
            "Requirement already satisfied: scipy in /usr/local/lib/python3.7/dist-packages (from easyocr) (1.7.3)\n",
            "Requirement already satisfied: PyYAML in /usr/local/lib/python3.7/dist-packages (from easyocr) (6.0)\n",
            "Requirement already satisfied: requests in /usr/local/lib/python3.7/dist-packages (from torchvision>=0.5->easyocr) (2.23.0)\n",
            "Requirement already satisfied: typing-extensions in /usr/local/lib/python3.7/dist-packages (from torchvision>=0.5->easyocr) (4.1.1)\n",
            "Requirement already satisfied: six in /usr/local/lib/python3.7/dist-packages (from python-bidi->easyocr) (1.15.0)\n",
            "Requirement already satisfied: urllib3!=1.25.0,!=1.25.1,<1.26,>=1.21.1 in /usr/local/lib/python3.7/dist-packages (from requests->torchvision>=0.5->easyocr) (1.24.3)\n",
            "Requirement already satisfied: chardet<4,>=3.0.2 in /usr/local/lib/python3.7/dist-packages (from requests->torchvision>=0.5->easyocr) (3.0.4)\n",
            "Requirement already satisfied: certifi>=2017.4.17 in /usr/local/lib/python3.7/dist-packages (from requests->torchvision>=0.5->easyocr) (2022.9.24)\n",
            "Requirement already satisfied: idna<3,>=2.5 in /usr/local/lib/python3.7/dist-packages (from requests->torchvision>=0.5->easyocr) (2.10)\n",
            "Requirement already satisfied: networkx>=2.0 in /usr/local/lib/python3.7/dist-packages (from scikit-image->easyocr) (2.6.3)\n",
            "Requirement already satisfied: matplotlib!=3.0.0,>=2.0.0 in /usr/local/lib/python3.7/dist-packages (from scikit-image->easyocr) (3.2.2)\n",
            "Requirement already satisfied: imageio>=2.3.0 in /usr/local/lib/python3.7/dist-packages (from scikit-image->easyocr) (2.9.0)\n",
            "Requirement already satisfied: tifffile>=2019.7.26 in /usr/local/lib/python3.7/dist-packages (from scikit-image->easyocr) (2021.11.2)\n",
            "Requirement already satisfied: PyWavelets>=1.1.1 in /usr/local/lib/python3.7/dist-packages (from scikit-image->easyocr) (1.3.0)\n",
            "Requirement already satisfied: cycler>=0.10 in /usr/local/lib/python3.7/dist-packages (from matplotlib!=3.0.0,>=2.0.0->scikit-image->easyocr) (0.11.0)\n",
            "Requirement already satisfied: kiwisolver>=1.0.1 in /usr/local/lib/python3.7/dist-packages (from matplotlib!=3.0.0,>=2.0.0->scikit-image->easyocr) (1.4.4)\n",
            "Requirement already satisfied: pyparsing!=2.0.4,!=2.1.2,!=2.1.6,>=2.0.1 in /usr/local/lib/python3.7/dist-packages (from matplotlib!=3.0.0,>=2.0.0->scikit-image->easyocr) (3.0.9)\n",
            "Requirement already satisfied: python-dateutil>=2.1 in /usr/local/lib/python3.7/dist-packages (from matplotlib!=3.0.0,>=2.0.0->scikit-image->easyocr) (2.8.2)\n",
            "Installing collected packages: python-bidi, pyclipper, opencv-python-headless, ninja, easyocr\n",
            "  Attempting uninstall: opencv-python-headless\n",
            "    Found existing installation: opencv-python-headless 4.6.0.66\n",
            "    Uninstalling opencv-python-headless-4.6.0.66:\n",
            "      Successfully uninstalled opencv-python-headless-4.6.0.66\n",
            "Successfully installed easyocr-1.6.2 ninja-1.10.2.4 opencv-python-headless-4.5.4.60 pyclipper-1.3.0.post3 python-bidi-0.4.2\n"
          ]
        }
      ]
    },
    {
      "cell_type": "code",
      "source": [
        "import easyocr\n",
        "reader = easyocr.Reader(['ru'])\n",
        "\n",
        "reader.readtext(\"https://sad9.ru/images/u/pages/107/2v-tot-god-osennyaya-pogoda-2-kl.png\")"
      ],
      "metadata": {
        "id": "BIxv9Zf-rBrB",
        "outputId": "853c8b68-8a34-4839-9749-3314399b8818",
        "colab": {
          "base_uri": "https://localhost:8080/"
        }
      },
      "execution_count": 4,
      "outputs": [
        {
          "output_type": "stream",
          "name": "stderr",
          "text": [
            "WARNING:easyocr.easyocr:CUDA not available - defaulting to CPU. Note: This module is much faster with a GPU.\n",
            "WARNING:easyocr.easyocr:Downloading detection model, please wait. This may take several minutes depending upon your network connection.\n"
          ]
        },
        {
          "output_type": "stream",
          "name": "stdout",
          "text": [
            "Progress: |██████████████████████████████████████████████████| 100.0% Complete"
          ]
        },
        {
          "output_type": "stream",
          "name": "stderr",
          "text": [
            "WARNING:easyocr.easyocr:Downloading recognition model, please wait. This may take several minutes depending upon your network connection.\n"
          ]
        },
        {
          "output_type": "stream",
          "name": "stdout",
          "text": [
            "Progress: |████████████████████████████████████████████████████| 104.8% Complete"
          ]
        },
        {
          "output_type": "execute_result",
          "data": {
            "text/plain": [
              "[([[55, 53], [689, 53], [689, 113], [55, 113]],\n",
              "  'В тот год осенняя погода',\n",
              "  0.9053818269007115),\n",
              " ([[54, 108], [653, 108], [653, 171], [54, 171]],\n",
              "  'Стояла долго на дворе,',\n",
              "  0.9524727865005829),\n",
              " ([[55, 165], [801, 165], [801, 231], [55, 231]],\n",
              "  'Зимы ждала, ждала природа:',\n",
              "  0.8435442823458049),\n",
              " ([[56, 224], [540, 224], [540, 276], [56, 276]],\n",
              "  'Снег выпал только',\n",
              "  0.9996459520207298),\n",
              " ([[550, 240], [582, 240], [582, 272], [550, 272]], 'В', 0.9570488003430491),\n",
              " ([[590, 230], [776, 230], [776, 284], [590, 284]],\n",
              "  'январе',\n",
              "  0.999966176314317),\n",
              " ([[55, 278], [1005, 278], [1005, 346], [55, 346]],\n",
              "  'На третье в ночь: Проснувшись рано,',\n",
              "  0.750923083968399),\n",
              " ([[55, 339], [667, 339], [667, 401], [55, 401]],\n",
              "  'В окно увидела Татьяна',\n",
              "  0.974040608060236),\n",
              " ([[50, 394], [720, 394], [720, 466], [50, 466]],\n",
              "  'Поутру побелевший двор;',\n",
              "  0.8555701797935228),\n",
              " ([[51, 452], [487, 452], [487, 530], [51, 530]],\n",
              "  'Куртины, кровли',\n",
              "  0.8317193893037439),\n",
              " ([[496, 468], [528, 468], [528, 502], [496, 502]], 'и', 0.3284325773098864),\n",
              " ([[530, 446], [710, 446], [710, 521], [530, 521]],\n",
              "  'забор;',\n",
              "  0.829772546573139),\n",
              " ([[55, 513], [699, 513], [699, 575], [55, 575]],\n",
              "  'На стеклах легкие узоры;',\n",
              "  0.8119881429514403),\n",
              " ([[53, 571], [523, 571], [523, 633], [53, 633]],\n",
              "  'Деревья в зимнем',\n",
              "  0.7011006922603287),\n",
              " ([[527, 564], [760, 564], [760, 637], [527, 637]],\n",
              "  'серебре,',\n",
              "  0.9376859217169179),\n",
              " ([[53, 622], [691, 622], [691, 696], [53, 696]],\n",
              "  'Сорок веселых на дворе',\n",
              "  0.9752787756423666),\n",
              " ([[62, 694], [92, 694], [92, 728], [62, 728]], 'И', 0.801491065660457),\n",
              " ([[105, 683], [677, 683], [677, 745], [105, 745]],\n",
              "  'мягко устланные горы',\n",
              "  0.9535456144950596),\n",
              " ([[55, 740], [827, 740], [827, 803], [55, 803]],\n",
              "  'Зимы блистательным ковром:',\n",
              "  0.9167789899162189),\n",
              " ([[53, 797], [731, 797], [731, 862], [53, 862]],\n",
              "  'Все ярко, все бело кругом.',\n",
              "  0.7443293456947839),\n",
              " ([[50, 914], [130, 914], [130, 940], [50, 940]], '$а9 г', 0.7925174395608608)]"
            ]
          },
          "metadata": {},
          "execution_count": 4
        }
      ]
    },
    {
      "cell_type": "markdown",
      "source": [
        "#Nanonets"
      ],
      "metadata": {
        "id": "c23oeUp5B4R1"
      }
    },
    {
      "cell_type": "code",
      "source": [
        "!pip install ocr-nanonets-wrapper"
      ],
      "metadata": {
        "colab": {
          "base_uri": "https://localhost:8080/"
        },
        "id": "_0CBjSNRB-40",
        "outputId": "e7712e00-3efc-4c5b-c3d3-1f83f3df8544"
      },
      "execution_count": 5,
      "outputs": [
        {
          "output_type": "stream",
          "name": "stdout",
          "text": [
            "Looking in indexes: https://pypi.org/simple, https://us-python.pkg.dev/colab-wheels/public/simple/\n",
            "Collecting ocr-nanonets-wrapper\n",
            "  Downloading ocr-nanonets-wrapper-1.1.tar.gz (4.2 kB)\n",
            "Requirement already satisfied: requests in /usr/local/lib/python3.7/dist-packages (from ocr-nanonets-wrapper) (2.23.0)\n",
            "Collecting fpdf\n",
            "  Downloading fpdf-1.7.2.tar.gz (39 kB)\n",
            "Requirement already satisfied: numpy in /usr/local/lib/python3.7/dist-packages (from ocr-nanonets-wrapper) (1.21.6)\n",
            "Requirement already satisfied: pandas in /usr/local/lib/python3.7/dist-packages (from ocr-nanonets-wrapper) (1.3.5)\n",
            "Requirement already satisfied: pytz>=2017.3 in /usr/local/lib/python3.7/dist-packages (from pandas->ocr-nanonets-wrapper) (2022.5)\n",
            "Requirement already satisfied: python-dateutil>=2.7.3 in /usr/local/lib/python3.7/dist-packages (from pandas->ocr-nanonets-wrapper) (2.8.2)\n",
            "Requirement already satisfied: six>=1.5 in /usr/local/lib/python3.7/dist-packages (from python-dateutil>=2.7.3->pandas->ocr-nanonets-wrapper) (1.15.0)\n",
            "Requirement already satisfied: idna<3,>=2.5 in /usr/local/lib/python3.7/dist-packages (from requests->ocr-nanonets-wrapper) (2.10)\n",
            "Requirement already satisfied: certifi>=2017.4.17 in /usr/local/lib/python3.7/dist-packages (from requests->ocr-nanonets-wrapper) (2022.9.24)\n",
            "Requirement already satisfied: urllib3!=1.25.0,!=1.25.1,<1.26,>=1.21.1 in /usr/local/lib/python3.7/dist-packages (from requests->ocr-nanonets-wrapper) (1.24.3)\n",
            "Requirement already satisfied: chardet<4,>=3.0.2 in /usr/local/lib/python3.7/dist-packages (from requests->ocr-nanonets-wrapper) (3.0.4)\n",
            "Building wheels for collected packages: ocr-nanonets-wrapper, fpdf\n",
            "  Building wheel for ocr-nanonets-wrapper (setup.py) ... \u001b[?25l\u001b[?25hdone\n",
            "  Created wheel for ocr-nanonets-wrapper: filename=ocr_nanonets_wrapper-1.1-py3-none-any.whl size=4721 sha256=aa363c7eead26c02ae3f09b0525ec8306350dd8f32faebe7027a45f0a06019d3\n",
            "  Stored in directory: /root/.cache/pip/wheels/ea/8e/14/1eb6a872922462cd932ac82ae2978a32d182f2da9cc9d28f04\n",
            "  Building wheel for fpdf (setup.py) ... \u001b[?25l\u001b[?25hdone\n",
            "  Created wheel for fpdf: filename=fpdf-1.7.2-py2.py3-none-any.whl size=40725 sha256=cadb5ccf568dd7f5cc0885c666225a57cf3026b9daf7d1879f067a32da457b21\n",
            "  Stored in directory: /root/.cache/pip/wheels/d7/ca/c8/86467e7957bbbcbdf4cf4870fc7dc95e9a16404b2e3c3a98c3\n",
            "Successfully built ocr-nanonets-wrapper fpdf\n",
            "Installing collected packages: fpdf, ocr-nanonets-wrapper\n",
            "Successfully installed fpdf-1.7.2 ocr-nanonets-wrapper-1.1\n"
          ]
        }
      ]
    },
    {
      "cell_type": "code",
      "source": [
        "from nanonets import NANONETSOCR\n",
        "\n",
        "model = NANONETSOCR()\n",
        "model.set_token('9oaBV3LTmeM2oCqdA4Sf4debajLvap7L')\n",
        "\n",
        "string = model.image_to_string(\"https://sad9.ru/images/u/pages/107/2v-tot-god-osennyaya-pogoda-2-kl.png\")\n",
        "print(string)\n",
        "#русский язык не нашёл "
      ],
      "metadata": {
        "colab": {
          "base_uri": "https://localhost:8080/"
        },
        "id": "u_eywaOaB-7V",
        "outputId": "5da12de7-996e-4b5a-c309-4cb8300ec8a3"
      },
      "execution_count": 6,
      "outputs": [
        {
          "output_type": "stream",
          "name": "stdout",
          "text": [
            "B TOT roa OCEHHAA noroga CTOAna gonro Ha ABope , 3VMbI xnana, xAana npupona. Cher Bbinan TONbKO B AHBape Ha TpeTbe B HOYb. NpochybwnCb paho , B OKHO yBngena TaTbAHa Noytpy no6eneBwnn ABop , KypTMHbI, KpoBnn V 3a6op, Ha cteknax nerkne y3opbI, AepeBbA B 3VMHEM cepe6pe, Copok BecenbIX Ha ABope M MATKO yctnaHHbIe ropbI 3yMbI 6nnctaTebHbIM KOBPOM . Bce APKO , Bce 6eno KpyroM. . sa9.ru \n"
          ]
        }
      ]
    },
    {
      "cell_type": "markdown",
      "source": [
        "#Paddleocr"
      ],
      "metadata": {
        "id": "dtFaYpvhCIYk"
      }
    },
    {
      "cell_type": "code",
      "source": [
        "!python3 -m pip install paddlepaddle -i https://mirror.baidu.com/pypi/simple\n",
        "!pip install \"paddleocr>=2.0.1\" # Recommend to use version 2.0.1+"
      ],
      "metadata": {
        "colab": {
          "base_uri": "https://localhost:8080/"
        },
        "id": "9KHVDWLYCKF9",
        "outputId": "c230934b-a44a-443a-d489-d5af2a19d3f0"
      },
      "execution_count": 7,
      "outputs": [
        {
          "output_type": "stream",
          "name": "stdout",
          "text": [
            "Looking in indexes: https://mirror.baidu.com/pypi/simple, https://us-python.pkg.dev/colab-wheels/public/simple/\n",
            "Collecting paddlepaddle\n",
            "  Downloading https://mirror.baidu.com/pypi/packages/35/ae/bb0e011f11c026856c643ac3fe023346cc42b702fa201b2044eb8f906dfa/paddlepaddle-2.3.2-cp37-cp37m-manylinux1_x86_64.whl (112.5 MB)\n",
            "\u001b[K     |████████████████████████████████| 112.5 MB 53 kB/s \n",
            "\u001b[?25hRequirement already satisfied: requests>=2.20.0 in /usr/local/lib/python3.7/dist-packages (from paddlepaddle) (2.23.0)\n",
            "Requirement already satisfied: Pillow in /usr/local/lib/python3.7/dist-packages (from paddlepaddle) (7.1.2)\n",
            "Requirement already satisfied: six in /usr/local/lib/python3.7/dist-packages (from paddlepaddle) (1.15.0)\n",
            "Requirement already satisfied: opt-einsum==3.3.0 in /usr/local/lib/python3.7/dist-packages (from paddlepaddle) (3.3.0)\n",
            "Requirement already satisfied: astor in /usr/local/lib/python3.7/dist-packages (from paddlepaddle) (0.8.1)\n",
            "Requirement already satisfied: decorator in /usr/local/lib/python3.7/dist-packages (from paddlepaddle) (4.4.2)\n",
            "Requirement already satisfied: protobuf<=3.20.0,>=3.1.0 in /usr/local/lib/python3.7/dist-packages (from paddlepaddle) (3.17.3)\n",
            "Requirement already satisfied: numpy>=1.13 in /usr/local/lib/python3.7/dist-packages (from paddlepaddle) (1.21.6)\n",
            "Collecting paddle-bfloat==0.1.7\n",
            "  Downloading https://mirror.baidu.com/pypi/packages/82/61/dc218060cf0b2c6e6206c0b3961dc1b045e1761ac2af62f86669e8e19eda/paddle_bfloat-0.1.7-cp37-cp37m-manylinux_2_17_x86_64.manylinux2014_x86_64.whl (394 kB)\n",
            "\u001b[K     |████████████████████████████████| 394 kB 8.4 MB/s \n",
            "\u001b[?25hRequirement already satisfied: chardet<4,>=3.0.2 in /usr/local/lib/python3.7/dist-packages (from requests>=2.20.0->paddlepaddle) (3.0.4)\n",
            "Requirement already satisfied: idna<3,>=2.5 in /usr/local/lib/python3.7/dist-packages (from requests>=2.20.0->paddlepaddle) (2.10)\n",
            "Requirement already satisfied: certifi>=2017.4.17 in /usr/local/lib/python3.7/dist-packages (from requests>=2.20.0->paddlepaddle) (2022.9.24)\n",
            "Requirement already satisfied: urllib3!=1.25.0,!=1.25.1,<1.26,>=1.21.1 in /usr/local/lib/python3.7/dist-packages (from requests>=2.20.0->paddlepaddle) (1.24.3)\n",
            "Installing collected packages: paddle-bfloat, paddlepaddle\n",
            "Successfully installed paddle-bfloat-0.1.7 paddlepaddle-2.3.2\n",
            "Looking in indexes: https://pypi.org/simple, https://us-python.pkg.dev/colab-wheels/public/simple/\n",
            "Collecting paddleocr>=2.0.1\n",
            "  Using cached paddleocr-2.6.1.0-py3-none-any.whl (409 kB)\n",
            "Requirement already satisfied: opencv-contrib-python in /usr/local/lib/python3.7/dist-packages (from paddleocr>=2.0.1) (4.6.0.66)\n",
            "Requirement already satisfied: numpy in /usr/local/lib/python3.7/dist-packages (from paddleocr>=2.0.1) (1.21.6)\n",
            "Collecting pdf2docx\n",
            "  Using cached pdf2docx-0.5.6-py3-none-any.whl (148 kB)\n",
            "Collecting visualdl\n",
            "  Using cached visualdl-2.4.1-py3-none-any.whl (4.9 MB)\n",
            "Requirement already satisfied: pyclipper in /usr/local/lib/python3.7/dist-packages (from paddleocr>=2.0.1) (1.3.0.post3)\n",
            "Requirement already satisfied: openpyxl in /usr/local/lib/python3.7/dist-packages (from paddleocr>=2.0.1) (3.0.10)\n",
            "Requirement already satisfied: tqdm in /usr/local/lib/python3.7/dist-packages (from paddleocr>=2.0.1) (4.64.1)\n",
            "Requirement already satisfied: lmdb in /usr/local/lib/python3.7/dist-packages (from paddleocr>=2.0.1) (0.99)\n",
            "Collecting fonttools>=4.24.0\n",
            "  Using cached fonttools-4.38.0-py3-none-any.whl (965 kB)\n",
            "Collecting premailer\n",
            "  Using cached premailer-3.10.0-py2.py3-none-any.whl (19 kB)\n",
            "Requirement already satisfied: scikit-image in /usr/local/lib/python3.7/dist-packages (from paddleocr>=2.0.1) (0.18.3)\n",
            "Requirement already satisfied: opencv-python in /usr/local/lib/python3.7/dist-packages (from paddleocr>=2.0.1) (4.6.0.66)\n",
            "Collecting PyMuPDF==1.19.0\n",
            "  Downloading PyMuPDF-1.19.0-cp37-cp37m-manylinux_2_12_x86_64.manylinux2010_x86_64.whl (8.7 MB)\n",
            "\u001b[K     |████████████████████████████████| 8.7 MB 2.5 MB/s \n",
            "\u001b[?25hRequirement already satisfied: beautifulsoup4 in /usr/local/lib/python3.7/dist-packages (from paddleocr>=2.0.1) (4.6.3)\n",
            "Requirement already satisfied: shapely in /usr/local/lib/python3.7/dist-packages (from paddleocr>=2.0.1) (1.8.5.post1)\n",
            "Collecting lanms-neo==1.0.2\n",
            "  Using cached lanms_neo-1.0.2.tar.gz (39 kB)\n",
            "  Installing build dependencies ... \u001b[?25l\u001b[?25hdone\n",
            "  Getting requirements to build wheel ... \u001b[?25l\u001b[?25hdone\n",
            "    Preparing wheel metadata ... \u001b[?25l\u001b[?25hdone\n",
            "Requirement already satisfied: cython in /usr/local/lib/python3.7/dist-packages (from paddleocr>=2.0.1) (0.29.32)\n",
            "Requirement already satisfied: imgaug in /usr/local/lib/python3.7/dist-packages (from paddleocr>=2.0.1) (0.4.0)\n",
            "Collecting python-docx\n",
            "  Using cached python-docx-0.8.11.tar.gz (5.6 MB)\n",
            "Collecting fire>=0.3.0\n",
            "  Downloading fire-0.4.0.tar.gz (87 kB)\n",
            "\u001b[K     |████████████████████████████████| 87 kB 6.1 MB/s \n",
            "\u001b[?25hCollecting attrdict\n",
            "  Using cached attrdict-2.0.1-py2.py3-none-any.whl (9.9 kB)\n",
            "Collecting rapidfuzz\n",
            "  Downloading rapidfuzz-2.13.0-cp37-cp37m-manylinux_2_17_x86_64.manylinux2014_x86_64.whl (2.2 MB)\n",
            "\u001b[K     |████████████████████████████████| 2.2 MB 37.0 MB/s \n",
            "\u001b[?25hRequirement already satisfied: lxml in /usr/local/lib/python3.7/dist-packages (from paddleocr>=2.0.1) (4.9.1)\n",
            "Collecting Polygon3\n",
            "  Downloading Polygon3-3.0.9.1.tar.gz (39 kB)\n",
            "Requirement already satisfied: six in /usr/local/lib/python3.7/dist-packages (from fire>=0.3.0->paddleocr>=2.0.1) (1.15.0)\n",
            "Requirement already satisfied: termcolor in /usr/local/lib/python3.7/dist-packages (from fire>=0.3.0->paddleocr>=2.0.1) (2.0.1)\n",
            "Requirement already satisfied: matplotlib in /usr/local/lib/python3.7/dist-packages (from imgaug->paddleocr>=2.0.1) (3.2.2)\n",
            "Requirement already satisfied: scipy in /usr/local/lib/python3.7/dist-packages (from imgaug->paddleocr>=2.0.1) (1.7.3)\n",
            "Requirement already satisfied: Pillow in /usr/local/lib/python3.7/dist-packages (from imgaug->paddleocr>=2.0.1) (7.1.2)\n",
            "Requirement already satisfied: imageio in /usr/local/lib/python3.7/dist-packages (from imgaug->paddleocr>=2.0.1) (2.9.0)\n",
            "Requirement already satisfied: PyWavelets>=1.1.1 in /usr/local/lib/python3.7/dist-packages (from scikit-image->paddleocr>=2.0.1) (1.3.0)\n",
            "Requirement already satisfied: networkx>=2.0 in /usr/local/lib/python3.7/dist-packages (from scikit-image->paddleocr>=2.0.1) (2.6.3)\n",
            "Requirement already satisfied: tifffile>=2019.7.26 in /usr/local/lib/python3.7/dist-packages (from scikit-image->paddleocr>=2.0.1) (2021.11.2)\n",
            "Requirement already satisfied: pyparsing!=2.0.4,!=2.1.2,!=2.1.6,>=2.0.1 in /usr/local/lib/python3.7/dist-packages (from matplotlib->imgaug->paddleocr>=2.0.1) (3.0.9)\n",
            "Requirement already satisfied: python-dateutil>=2.1 in /usr/local/lib/python3.7/dist-packages (from matplotlib->imgaug->paddleocr>=2.0.1) (2.8.2)\n",
            "Requirement already satisfied: kiwisolver>=1.0.1 in /usr/local/lib/python3.7/dist-packages (from matplotlib->imgaug->paddleocr>=2.0.1) (1.4.4)\n",
            "Requirement already satisfied: cycler>=0.10 in /usr/local/lib/python3.7/dist-packages (from matplotlib->imgaug->paddleocr>=2.0.1) (0.11.0)\n",
            "Requirement already satisfied: typing-extensions in /usr/local/lib/python3.7/dist-packages (from kiwisolver>=1.0.1->matplotlib->imgaug->paddleocr>=2.0.1) (4.1.1)\n",
            "Requirement already satisfied: et-xmlfile in /usr/local/lib/python3.7/dist-packages (from openpyxl->paddleocr>=2.0.1) (1.1.0)\n",
            "Requirement already satisfied: cachetools in /usr/local/lib/python3.7/dist-packages (from premailer->paddleocr>=2.0.1) (4.2.4)\n",
            "Collecting cssutils\n",
            "  Downloading cssutils-2.6.0-py3-none-any.whl (399 kB)\n",
            "\u001b[K     |████████████████████████████████| 399 kB 35.5 MB/s \n",
            "\u001b[?25hCollecting cssselect\n",
            "  Downloading cssselect-1.2.0-py2.py3-none-any.whl (18 kB)\n",
            "Requirement already satisfied: requests in /usr/local/lib/python3.7/dist-packages (from premailer->paddleocr>=2.0.1) (2.23.0)\n",
            "Requirement already satisfied: importlib-metadata in /usr/local/lib/python3.7/dist-packages (from cssutils->premailer->paddleocr>=2.0.1) (4.13.0)\n",
            "Requirement already satisfied: zipp>=0.5 in /usr/local/lib/python3.7/dist-packages (from importlib-metadata->cssutils->premailer->paddleocr>=2.0.1) (3.10.0)\n",
            "Requirement already satisfied: idna<3,>=2.5 in /usr/local/lib/python3.7/dist-packages (from requests->premailer->paddleocr>=2.0.1) (2.10)\n",
            "Requirement already satisfied: urllib3!=1.25.0,!=1.25.1,<1.26,>=1.21.1 in /usr/local/lib/python3.7/dist-packages (from requests->premailer->paddleocr>=2.0.1) (1.24.3)\n",
            "Requirement already satisfied: certifi>=2017.4.17 in /usr/local/lib/python3.7/dist-packages (from requests->premailer->paddleocr>=2.0.1) (2022.9.24)\n",
            "Requirement already satisfied: chardet<4,>=3.0.2 in /usr/local/lib/python3.7/dist-packages (from requests->premailer->paddleocr>=2.0.1) (3.0.4)\n",
            "Requirement already satisfied: pandas in /usr/local/lib/python3.7/dist-packages (from visualdl->paddleocr>=2.0.1) (1.3.5)\n",
            "Collecting bce-python-sdk\n",
            "  Downloading bce_python_sdk-0.8.74-py3-none-any.whl (204 kB)\n",
            "\u001b[K     |████████████████████████████████| 204 kB 6.1 MB/s \n",
            "\u001b[?25hRequirement already satisfied: protobuf>=3.11.0 in /usr/local/lib/python3.7/dist-packages (from visualdl->paddleocr>=2.0.1) (3.17.3)\n",
            "Collecting multiprocess\n",
            "  Downloading multiprocess-0.70.14-py37-none-any.whl (115 kB)\n",
            "\u001b[K     |████████████████████████████████| 115 kB 50.1 MB/s \n",
            "\u001b[?25hRequirement already satisfied: flask>=1.1.1 in /usr/local/lib/python3.7/dist-packages (from visualdl->paddleocr>=2.0.1) (1.1.4)\n",
            "Requirement already satisfied: packaging in /usr/local/lib/python3.7/dist-packages (from visualdl->paddleocr>=2.0.1) (21.3)\n",
            "Collecting Flask-Babel>=1.0.0\n",
            "  Downloading Flask_Babel-2.0.0-py3-none-any.whl (9.3 kB)\n",
            "Requirement already satisfied: itsdangerous<2.0,>=0.24 in /usr/local/lib/python3.7/dist-packages (from flask>=1.1.1->visualdl->paddleocr>=2.0.1) (1.1.0)\n",
            "Requirement already satisfied: Werkzeug<2.0,>=0.15 in /usr/local/lib/python3.7/dist-packages (from flask>=1.1.1->visualdl->paddleocr>=2.0.1) (1.0.1)\n",
            "Requirement already satisfied: Jinja2<3.0,>=2.10.1 in /usr/local/lib/python3.7/dist-packages (from flask>=1.1.1->visualdl->paddleocr>=2.0.1) (2.11.3)\n",
            "Requirement already satisfied: click<8.0,>=5.1 in /usr/local/lib/python3.7/dist-packages (from flask>=1.1.1->visualdl->paddleocr>=2.0.1) (7.1.2)\n",
            "Requirement already satisfied: Babel>=2.3 in /usr/local/lib/python3.7/dist-packages (from Flask-Babel>=1.0.0->visualdl->paddleocr>=2.0.1) (2.10.3)\n",
            "Requirement already satisfied: pytz in /usr/local/lib/python3.7/dist-packages (from Flask-Babel>=1.0.0->visualdl->paddleocr>=2.0.1) (2022.5)\n",
            "Requirement already satisfied: MarkupSafe>=0.23 in /usr/local/lib/python3.7/dist-packages (from Jinja2<3.0,>=2.10.1->flask>=1.1.1->visualdl->paddleocr>=2.0.1) (2.0.1)\n",
            "Requirement already satisfied: future>=0.6.0 in /usr/local/lib/python3.7/dist-packages (from bce-python-sdk->visualdl->paddleocr>=2.0.1) (0.16.0)\n",
            "Collecting pycryptodome>=3.8.0\n",
            "  Downloading pycryptodome-3.15.0-cp35-abi3-manylinux2010_x86_64.whl (2.3 MB)\n",
            "\u001b[K     |████████████████████████████████| 2.3 MB 46.8 MB/s \n",
            "\u001b[?25hRequirement already satisfied: dill>=0.3.6 in /usr/local/lib/python3.7/dist-packages (from multiprocess->visualdl->paddleocr>=2.0.1) (0.3.6)\n",
            "Building wheels for collected packages: lanms-neo, fire, python-docx, Polygon3\n",
            "  Building wheel for lanms-neo (PEP 517) ... \u001b[?25l\u001b[?25hdone\n",
            "  Created wheel for lanms-neo: filename=lanms_neo-1.0.2-cp37-cp37m-linux_x86_64.whl size=110708 sha256=a1b18860d01dd7388df03193c6294ae04642e83c64b70ae7ac9dda030bce0eb5\n",
            "  Stored in directory: /root/.cache/pip/wheels/09/7b/5e/1e4d24a8f94c1116afa284ce2968ef2f72b986a5457164b340\n",
            "  Building wheel for fire (setup.py) ... \u001b[?25l\u001b[?25hdone\n",
            "  Created wheel for fire: filename=fire-0.4.0-py2.py3-none-any.whl size=115942 sha256=ac5299437127440478adb2830c1cf23e5a22e30d0281cb64a587044e8ac2b9a9\n",
            "  Stored in directory: /root/.cache/pip/wheels/8a/67/fb/2e8a12fa16661b9d5af1f654bd199366799740a85c64981226\n",
            "  Building wheel for python-docx (setup.py) ... \u001b[?25l\u001b[?25hdone\n",
            "  Created wheel for python-docx: filename=python_docx-0.8.11-py3-none-any.whl size=184507 sha256=2c204ec3210856a862da2b0741b793fc4c11d5b68154e178bc0caef4b81e57fb\n",
            "  Stored in directory: /root/.cache/pip/wheels/f6/6f/b9/d798122a8b55b74ad30b5f52b01482169b445fbb84a11797a6\n",
            "  Building wheel for Polygon3 (setup.py) ... \u001b[?25l\u001b[?25hdone\n",
            "  Created wheel for Polygon3: filename=Polygon3-3.0.9.1-cp37-cp37m-linux_x86_64.whl size=102647 sha256=6f5d33a65123e9582b4c070eb1a68e999506acfdf444971a9f543269cfd2d250\n",
            "  Stored in directory: /root/.cache/pip/wheels/0d/f3/a1/d9909fbad83c438786f3fbde79b0636c9e843107bad74baba7\n",
            "Successfully built lanms-neo fire python-docx Polygon3\n",
            "Installing collected packages: pycryptodome, python-docx, PyMuPDF, multiprocess, fonttools, Flask-Babel, fire, cssutils, cssselect, bce-python-sdk, visualdl, rapidfuzz, premailer, Polygon3, pdf2docx, lanms-neo, attrdict, paddleocr\n",
            "Successfully installed Flask-Babel-2.0.0 Polygon3-3.0.9.1 PyMuPDF-1.19.0 attrdict-2.0.1 bce-python-sdk-0.8.74 cssselect-1.2.0 cssutils-2.6.0 fire-0.4.0 fonttools-4.38.0 lanms-neo-1.0.2 multiprocess-0.70.14 paddleocr-2.6.1.0 pdf2docx-0.5.6 premailer-3.10.0 pycryptodome-3.15.0 python-docx-0.8.11 rapidfuzz-2.13.0 visualdl-2.4.1\n"
          ]
        }
      ]
    },
    {
      "cell_type": "code",
      "source": [
        "from PIL import Image\n",
        "from urllib.request import urlopen\n",
        "\n",
        "url = \"https://sad9.ru/images/u/pages/107/2v-tot-god-osennyaya-pogoda-2-kl.png\"\n",
        "img = Image.open(urlopen(url))\n",
        "iimgm1 = img.save(\"image.png\")"
      ],
      "metadata": {
        "id": "qCKc7aA3CLK-"
      },
      "execution_count": 8,
      "outputs": []
    },
    {
      "cell_type": "code",
      "source": [
        "!paddleocr --image_dir /content/image.png --use_angle_cls true --lang ru --use_gpu false"
      ],
      "metadata": {
        "colab": {
          "base_uri": "https://localhost:8080/"
        },
        "id": "09KonfBZCLNc",
        "outputId": "f036783c-0dc0-4e0a-fbb7-0d1e6e8ecdfb"
      },
      "execution_count": 9,
      "outputs": [
        {
          "output_type": "stream",
          "name": "stdout",
          "text": [
            "download https://paddleocr.bj.bcebos.com/PP-OCRv3/multilingual/Multilingual_PP-OCRv3_det_infer.tar to /root/.paddleocr/whl/det/ml/Multilingual_PP-OCRv3_det_infer/Multilingual_PP-OCRv3_det_infer.tar\n",
            "100% 3.85M/3.85M [00:10<00:00, 354kiB/s] \n",
            "download https://paddleocr.bj.bcebos.com/PP-OCRv3/multilingual/cyrillic_PP-OCRv3_rec_infer.tar to /root/.paddleocr/whl/rec/cyrillic/cyrillic_PP-OCRv3_rec_infer/cyrillic_PP-OCRv3_rec_infer.tar\n",
            "100% 9.98M/9.98M [00:11<00:00, 876kiB/s] \n",
            "download https://paddleocr.bj.bcebos.com/dygraph_v2.0/ch/ch_ppocr_mobile_v2.0_cls_infer.tar to /root/.paddleocr/whl/cls/ch_ppocr_mobile_v2.0_cls_infer/ch_ppocr_mobile_v2.0_cls_infer.tar\n",
            "100% 2.19M/2.19M [00:07<00:00, 307kiB/s]\n",
            "[2022/11/03 01:13:29] ppocr DEBUG: Namespace(alpha=1.0, benchmark=False, beta=1.0, cls_batch_num=6, cls_image_shape='3, 48, 192', cls_model_dir='/root/.paddleocr/whl/cls/ch_ppocr_mobile_v2.0_cls_infer', cls_thresh=0.9, cpu_threads=10, crop_res_save_dir='./output', det=True, det_algorithm='DB', det_box_type='quad', det_db_box_thresh=0.6, det_db_score_mode='fast', det_db_thresh=0.3, det_db_unclip_ratio=1.5, det_east_cover_thresh=0.1, det_east_nms_thresh=0.2, det_east_score_thresh=0.8, det_limit_side_len=960, det_limit_type='max', det_model_dir='/root/.paddleocr/whl/det/ml/Multilingual_PP-OCRv3_det_infer', det_pse_box_thresh=0.85, det_pse_min_area=16, det_pse_scale=1, det_pse_thresh=0, det_sast_nms_thresh=0.2, det_sast_score_thresh=0.5, draw_img_save_dir='./inference_results', drop_score=0.5, e2e_algorithm='PGNet', e2e_char_dict_path='./ppocr/utils/ic15_dict.txt', e2e_limit_side_len=768, e2e_limit_type='max', e2e_model_dir=None, e2e_pgnet_mode='fast', e2e_pgnet_score_thresh=0.5, e2e_pgnet_valid_set='totaltext', enable_mkldnn=False, fourier_degree=5, gpu_mem=500, help='==SUPPRESS==', image_dir='/content/image.png', image_orientation=False, ir_optim=True, kie_algorithm='LayoutXLM', label_list=['0', '180'], lang='ru', layout=True, layout_dict_path=None, layout_model_dir=None, layout_nms_threshold=0.5, layout_score_threshold=0.5, max_batch_size=10, max_text_length=25, merge_no_span_structure=True, min_subgraph_size=15, mode='structure', ocr=True, ocr_order_method=None, ocr_version='PP-OCRv3', output='./output', page_num=0, precision='fp32', process_id=0, re_model_dir=None, rec=True, rec_algorithm='SVTR_LCNet', rec_batch_num=6, rec_char_dict_path='/usr/local/lib/python3.7/dist-packages/paddleocr/ppocr/utils/dict/cyrillic_dict.txt', rec_image_inverse=True, rec_image_shape='3, 48, 320', rec_model_dir='/root/.paddleocr/whl/rec/cyrillic/cyrillic_PP-OCRv3_rec_infer', recovery=False, save_crop_res=False, save_log_path='./log_output/', scales=[8, 16, 32], ser_dict_path='../train_data/XFUND/class_list_xfun.txt', ser_model_dir=None, show_log=True, sr_batch_num=1, sr_image_shape='3, 32, 128', sr_model_dir=None, structure_version='PP-Structurev2', table=True, table_algorithm='TableAttn', table_char_dict_path=None, table_max_len=488, table_model_dir=None, total_process_num=1, type='ocr', use_angle_cls=True, use_dilation=False, use_gpu=False, use_mp=False, use_npu=False, use_onnx=False, use_pdf2docx_api=False, use_pdserving=False, use_space_char=True, use_tensorrt=False, use_visual_backbone=True, use_xpu=False, vis_font_path='./doc/fonts/simfang.ttf', warmup=False)\n",
            "[2022/11/03 01:13:30] ppocr INFO: **********/content/image.png**********\n",
            "[2022/11/03 01:13:31] ppocr DEBUG: dt_boxes num : 60, elapse : 0.8977766036987305\n",
            "[2022/11/03 01:13:31] ppocr DEBUG: cls num  : 60, elapse : 0.4940977096557617\n",
            "[2022/11/03 01:13:36] ppocr DEBUG: rec_res num  : 60, elapse : 5.004328966140747\n",
            "[2022/11/03 01:13:36] ppocr INFO: [[[59.0, 55.0], [96.0, 55.0], [96.0, 100.0], [59.0, 100.0]], ('B', 0.8847339153289795)]\n",
            "[2022/11/03 01:13:36] ppocr INFO: [[[107.0, 60.0], [187.0, 63.0], [185.0, 100.0], [106.0, 97.0]], ('тOт', 0.7506883144378662)]\n",
            "[2022/11/03 01:13:36] ppocr INFO: [[[198.0, 65.0], [282.0, 65.0], [282.0, 106.0], [198.0, 106.0]], ('год', 0.9995101094245911)]\n",
            "[2022/11/03 01:13:36] ppocr INFO: [[[298.0, 68.0], [496.0, 68.0], [496.0, 98.0], [298.0, 98.0]], ('осенняя', 0.9619483947753906)]\n",
            "[2022/11/03 01:13:36] ppocr INFO: [[[516.0, 67.0], [681.0, 67.0], [681.0, 101.0], [516.0, 101.0]], ('огода', 0.9565823674201965)]\n",
            "[2022/11/03 01:13:36] ppocr INFO: [[[60.0, 112.0], [233.0, 118.0], [231.0, 161.0], [58.0, 154.0]], ('Стояла', 0.9974847435951233)]\n",
            "[2022/11/03 01:13:36] ppocr INFO: [[[249.0, 126.0], [391.0, 122.0], [392.0, 157.0], [250.0, 160.0]], ('долго', 0.9990766644477844)]\n",
            "[2022/11/03 01:13:36] ppocr INFO: [[[409.0, 121.0], [467.0, 124.0], [465.0, 160.0], [407.0, 156.0]], ('Hа', 0.8764404654502869)]\n",
            "[2022/11/03 01:13:36] ppocr INFO: [[[482.0, 126.0], [645.0, 126.0], [645.0, 165.0], [482.0, 165.0]], ('дворе', 0.9554885625839233)]\n",
            "[2022/11/03 01:13:36] ppocr INFO: [[[58.0, 167.0], [202.0, 174.0], [200.0, 218.0], [56.0, 211.0]], ('Зимы', 0.9949384331703186)]\n",
            "[2022/11/03 01:13:36] ppocr INFO: [[[214.0, 180.0], [380.0, 183.0], [379.0, 217.0], [213.0, 215.0]], ('ждала', 0.9967961311340332)]\n",
            "[2022/11/03 01:13:36] ppocr INFO: [[[397.0, 183.0], [551.0, 180.0], [551.0, 216.0], [398.0, 218.0]], ('ееж', 0.9450057148933411)]\n",
            "[2022/11/03 01:13:36] ppocr INFO: [[[571.0, 182.0], [790.0, 182.0], [790.0, 220.0], [571.0, 220.0]], ('рирода', 0.9980697631835938)]\n",
            "[2022/11/03 01:13:36] ppocr INFO: [[[59.0, 227.0], [173.0, 234.0], [171.0, 275.0], [57.0, 269.0]], ('Снeг', 0.9053152799606323)]\n",
            "[2022/11/03 01:13:36] ppocr INFO: [[[191.0, 239.0], [348.0, 239.0], [348.0, 269.0], [191.0, 269.0]], ('впал', 0.9507452249526978)]\n",
            "[2022/11/03 01:13:36] ppocr INFO: [[[367.0, 239.0], [531.0, 239.0], [531.0, 269.0], [367.0, 269.0]], ('только', 0.9673488736152649)]\n",
            "[2022/11/03 01:13:36] ppocr INFO: [[[551.0, 238.0], [582.0, 238.0], [582.0, 271.0], [551.0, 271.0]], ('B', 0.6945264339447021)]\n",
            "[2022/11/03 01:13:36] ppocr INFO: [[[595.0, 239.0], [769.0, 239.0], [769.0, 277.0], [595.0, 277.0]], ('январе', 0.9992654919624329)]\n",
            "[2022/11/03 01:13:36] ppocr INFO: [[[58.0, 283.0], [125.0, 288.0], [122.0, 331.0], [55.0, 326.0]], ('Hа', 0.825829267501831)]\n",
            "[2022/11/03 01:13:36] ppocr INFO: [[[139.0, 296.0], [298.0, 293.0], [298.0, 332.0], [139.0, 335.0]], ('третье', 0.9113227725028992)]\n",
            "[2022/11/03 01:13:36] ppocr INFO: [[[314.0, 293.0], [348.0, 293.0], [348.0, 330.0], [314.0, 330.0]], ('B', 0.6794852614402771)]\n",
            "[2022/11/03 01:13:36] ppocr INFO: [[[362.0, 297.0], [489.0, 297.0], [489.0, 328.0], [362.0, 328.0]], ('Hочь.', 0.8410981893539429)]\n",
            "[2022/11/03 01:13:36] ppocr INFO: [[[513.0, 290.0], [849.0, 296.0], [849.0, 338.0], [512.0, 332.0]], ('роснувшись', 0.9840043783187866)]\n",
            "[2022/11/03 01:13:36] ppocr INFO: [[[869.0, 296.0], [997.0, 296.0], [997.0, 335.0], [869.0, 335.0]], ('онед', 0.7929320335388184)]\n",
            "[2022/11/03 01:13:36] ppocr INFO: [[[58.0, 343.0], [96.0, 343.0], [96.0, 388.0], [58.0, 388.0]], ('B', 0.8939787745475769)]\n",
            "[2022/11/03 01:13:36] ppocr INFO: [[[109.0, 349.0], [223.0, 353.0], [222.0, 389.0], [108.0, 384.0]], ('окно', 0.8987516164779663)]\n",
            "[2022/11/03 01:13:36] ppocr INFO: [[[239.0, 356.0], [444.0, 350.0], [445.0, 388.0], [240.0, 394.0]], ('увидела', 0.9985173344612122)]\n",
            "[2022/11/03 01:13:36] ppocr INFO: [[[467.0, 347.0], [658.0, 347.0], [658.0, 385.0], [467.0, 385.0]], ('атьяна', 0.9577922821044922)]\n",
            "[2022/11/03 01:13:36] ppocr INFO: [[[63.0, 402.0], [231.0, 411.0], [229.0, 456.0], [60.0, 446.0]], ('оутру', 0.9863346219062805)]\n",
            "[2022/11/03 01:13:36] ppocr INFO: [[[251.0, 406.0], [554.0, 406.0], [554.0, 444.0], [251.0, 444.0]], ('обелевший', 0.9998960494995117)]\n",
            "[2022/11/03 01:13:36] ppocr INFO: [[[574.0, 409.0], [708.0, 413.0], [707.0, 452.0], [573.0, 448.0]], ('двор', 0.9988394975662231)]\n",
            "[2022/11/03 01:13:36] ppocr INFO: [[[62.0, 460.0], [286.0, 469.0], [284.0, 516.0], [60.0, 507.0]], ('Куртиныђ', 0.8902171850204468)]\n",
            "[2022/11/03 01:13:36] ppocr INFO: [[[493.0, 465.0], [528.0, 465.0], [528.0, 503.0], [493.0, 503.0]], ('и', 0.9380093216896057)]\n",
            "[2022/11/03 01:13:36] ppocr INFO: [[[540.0, 457.0], [697.0, 463.0], [695.0, 510.0], [538.0, 503.0]], ('3aбоp.', 0.8193863034248352)]\n",
            "[2022/11/03 01:13:36] ppocr INFO: [[[302.0, 470.0], [477.0, 463.0], [478.0, 502.0], [304.0, 509.0]], ('кровли', 0.9998822808265686)]\n",
            "[2022/11/03 01:13:36] ppocr INFO: [[[60.0, 516.0], [122.0, 516.0], [122.0, 557.0], [60.0, 557.0]], ('Hа', 0.967157781124115)]\n",
            "[2022/11/03 01:13:36] ppocr INFO: [[[138.0, 525.0], [327.0, 525.0], [327.0, 556.0], [138.0, 556.0]], ('стеклах', 0.9088846445083618)]\n",
            "[2022/11/03 01:13:36] ppocr INFO: [[[345.0, 524.0], [505.0, 529.0], [504.0, 560.0], [344.0, 555.0]], ('легкие', 0.9988399147987366)]\n",
            "[2022/11/03 01:13:36] ppocr INFO: [[[524.0, 527.0], [688.0, 527.0], [688.0, 566.0], [524.0, 566.0]], ('узорь', 0.8887771368026733)]\n",
            "[2022/11/03 01:13:36] ppocr INFO: [[[61.0, 577.0], [271.0, 577.0], [271.0, 624.0], [61.0, 624.0]], ('деревья', 0.9559208154678345)]\n",
            "[2022/11/03 01:13:36] ppocr INFO: [[[287.0, 582.0], [322.0, 582.0], [322.0, 618.0], [287.0, 618.0]], ('B', 0.9206042885780334)]\n",
            "[2022/11/03 01:13:36] ppocr INFO: [[[332.0, 583.0], [516.0, 586.0], [516.0, 618.0], [332.0, 614.0]], ('имнем', 0.9397926330566406)]\n",
            "[2022/11/03 01:13:36] ppocr INFO: [[[535.0, 577.0], [749.0, 577.0], [749.0, 624.0], [535.0, 624.0]], ('Cepeбpe.', 0.9038969278335571)]\n",
            "[2022/11/03 01:13:36] ppocr INFO: [[[59.0, 630.0], [214.0, 637.0], [212.0, 684.0], [57.0, 677.0]], ('Сорок', 0.9822584390640259)]\n",
            "[2022/11/03 01:13:36] ppocr INFO: [[[230.0, 643.0], [439.0, 643.0], [439.0, 673.0], [230.0, 673.0]], ('веселых', 0.9849064946174622)]\n",
            "[2022/11/03 01:13:36] ppocr INFO: [[[457.0, 637.0], [514.0, 640.0], [512.0, 676.0], [455.0, 672.0]], ('Hа', 0.8570502996444702)]\n",
            "[2022/11/03 01:13:36] ppocr INFO: [[[529.0, 642.0], [678.0, 639.0], [679.0, 679.0], [530.0, 682.0]], ('дворе', 0.9997194409370422)]\n",
            "[2022/11/03 01:13:36] ppocr INFO: [[[110.0, 693.0], [249.0, 698.0], [247.0, 733.0], [109.0, 728.0]], ('мягко', 0.9525995254516602)]\n",
            "[2022/11/03 01:13:36] ppocr INFO: [[[266.0, 701.0], [527.0, 696.0], [528.0, 732.0], [267.0, 737.0]], ('устланные', 0.9867549538612366)]\n",
            "[2022/11/03 01:13:36] ppocr INFO: [[[548.0, 699.0], [670.0, 699.0], [670.0, 739.0], [548.0, 739.0]], ('горы', 0.9978817105293274)]\n",
            "[2022/11/03 01:13:36] ppocr INFO: [[[58.0, 745.0], [200.0, 745.0], [200.0, 789.0], [58.0, 789.0]], ('Зимы', 0.9081200361251831)]\n",
            "[2022/11/03 01:13:36] ppocr INFO: [[[218.0, 750.0], [609.0, 754.0], [608.0, 788.0], [218.0, 783.0]], ('блистателыным', 0.9857216477394104)]\n",
            "[2022/11/03 01:13:36] ppocr INFO: [[[628.0, 755.0], [821.0, 758.0], [821.0, 797.0], [628.0, 794.0]], ('KOBpOм', 0.8394588828086853)]\n",
            "[2022/11/03 01:13:36] ppocr INFO: [[[62.0, 802.0], [151.0, 807.0], [148.0, 850.0], [59.0, 845.0]], ('Bce', 0.9443590044975281)]\n",
            "[2022/11/03 01:13:36] ppocr INFO: [[[407.0, 803.0], [528.0, 806.0], [527.0, 849.0], [406.0, 846.0]], ('бело', 0.9998493194580078)]\n",
            "[2022/11/03 01:13:36] ppocr INFO: [[[163.0, 813.0], [289.0, 813.0], [289.0, 853.0], [163.0, 853.0]], ('оЯd', 0.7161388397216797)]\n",
            "[2022/11/03 01:13:36] ppocr INFO: [[[307.0, 813.0], [392.0, 808.0], [394.0, 845.0], [309.0, 849.0]], ('Bсе', 0.9320008754730225)]\n",
            "[2022/11/03 01:13:36] ppocr INFO: [[[543.0, 815.0], [719.0, 813.0], [719.0, 852.0], [544.0, 854.0]], ('крyгом', 0.8099636435508728)]\n",
            "[2022/11/03 01:13:36] ppocr INFO: [[[54.0, 917.0], [128.0, 917.0], [128.0, 937.0], [54.0, 937.0]], ('Sag.ru', 0.8408179879188538)]\n"
          ]
        }
      ]
    },
    {
      "cell_type": "markdown",
      "source": [
        "#Tesseract"
      ],
      "metadata": {
        "id": "sUeV4NUBCbVt"
      }
    },
    {
      "cell_type": "code",
      "source": [
        "!sudo apt install tesseract-ocr\n",
        "!pip install pytesseract\n",
        "!sudo apt-get install tesseract-ocr-rus"
      ],
      "metadata": {
        "colab": {
          "base_uri": "https://localhost:8080/",
          "height": 1000
        },
        "id": "X87CMmceCd6d",
        "outputId": "aeae7d68-e6f5-4dfc-b08b-422de531496c"
      },
      "execution_count": 10,
      "outputs": [
        {
          "output_type": "stream",
          "name": "stdout",
          "text": [
            "Reading package lists... Done\n",
            "Building dependency tree       \n",
            "Reading state information... Done\n",
            "The following package was automatically installed and is no longer required:\n",
            "  libnvidia-common-460\n",
            "Use 'sudo apt autoremove' to remove it.\n",
            "The following additional packages will be installed:\n",
            "  tesseract-ocr-eng tesseract-ocr-osd\n",
            "The following NEW packages will be installed:\n",
            "  tesseract-ocr tesseract-ocr-eng tesseract-ocr-osd\n",
            "0 upgraded, 3 newly installed, 0 to remove and 4 not upgraded.\n",
            "Need to get 4,795 kB of archives.\n",
            "After this operation, 15.8 MB of additional disk space will be used.\n",
            "Get:1 http://archive.ubuntu.com/ubuntu bionic/universe amd64 tesseract-ocr-eng all 4.00~git24-0e00fe6-1.2 [1,588 kB]\n",
            "Get:2 http://archive.ubuntu.com/ubuntu bionic/universe amd64 tesseract-ocr-osd all 4.00~git24-0e00fe6-1.2 [2,989 kB]\n",
            "Get:3 http://archive.ubuntu.com/ubuntu bionic/universe amd64 tesseract-ocr amd64 4.00~git2288-10f4998a-2 [218 kB]\n",
            "Fetched 4,795 kB in 0s (12.3 MB/s)\n",
            "debconf: unable to initialize frontend: Dialog\n",
            "debconf: (No usable dialog-like program is installed, so the dialog based frontend cannot be used. at /usr/share/perl5/Debconf/FrontEnd/Dialog.pm line 76, <> line 3.)\n",
            "debconf: falling back to frontend: Readline\n",
            "debconf: unable to initialize frontend: Readline\n",
            "debconf: (This frontend requires a controlling tty.)\n",
            "debconf: falling back to frontend: Teletype\n",
            "dpkg-preconfigure: unable to re-open stdin: \n",
            "Selecting previously unselected package tesseract-ocr-eng.\n",
            "(Reading database ... 123942 files and directories currently installed.)\n",
            "Preparing to unpack .../tesseract-ocr-eng_4.00~git24-0e00fe6-1.2_all.deb ...\n",
            "Unpacking tesseract-ocr-eng (4.00~git24-0e00fe6-1.2) ...\n",
            "Selecting previously unselected package tesseract-ocr-osd.\n",
            "Preparing to unpack .../tesseract-ocr-osd_4.00~git24-0e00fe6-1.2_all.deb ...\n",
            "Unpacking tesseract-ocr-osd (4.00~git24-0e00fe6-1.2) ...\n",
            "Selecting previously unselected package tesseract-ocr.\n",
            "Preparing to unpack .../tesseract-ocr_4.00~git2288-10f4998a-2_amd64.deb ...\n",
            "Unpacking tesseract-ocr (4.00~git2288-10f4998a-2) ...\n",
            "Setting up tesseract-ocr-osd (4.00~git24-0e00fe6-1.2) ...\n",
            "Setting up tesseract-ocr-eng (4.00~git24-0e00fe6-1.2) ...\n",
            "Setting up tesseract-ocr (4.00~git2288-10f4998a-2) ...\n",
            "Processing triggers for man-db (2.8.3-2ubuntu0.1) ...\n",
            "Looking in indexes: https://pypi.org/simple, https://us-python.pkg.dev/colab-wheels/public/simple/\n",
            "Collecting pytesseract\n",
            "  Downloading pytesseract-0.3.10-py3-none-any.whl (14 kB)\n",
            "Requirement already satisfied: packaging>=21.3 in /usr/local/lib/python3.7/dist-packages (from pytesseract) (21.3)\n",
            "Collecting Pillow>=8.0.0\n",
            "  Downloading Pillow-9.3.0-cp37-cp37m-manylinux_2_17_x86_64.manylinux2014_x86_64.whl (3.2 MB)\n",
            "\u001b[K     |████████████████████████████████| 3.2 MB 5.1 MB/s \n",
            "\u001b[?25hRequirement already satisfied: pyparsing!=3.0.5,>=2.0.2 in /usr/local/lib/python3.7/dist-packages (from packaging>=21.3->pytesseract) (3.0.9)\n",
            "Installing collected packages: Pillow, pytesseract\n",
            "  Attempting uninstall: Pillow\n",
            "    Found existing installation: Pillow 7.1.2\n",
            "    Uninstalling Pillow-7.1.2:\n",
            "      Successfully uninstalled Pillow-7.1.2\n",
            "Successfully installed Pillow-9.3.0 pytesseract-0.3.10\n"
          ]
        },
        {
          "output_type": "display_data",
          "data": {
            "application/vnd.colab-display-data+json": {
              "pip_warning": {
                "packages": [
                  "PIL"
                ]
              }
            }
          },
          "metadata": {}
        },
        {
          "output_type": "stream",
          "name": "stdout",
          "text": [
            "Reading package lists... Done\n",
            "Building dependency tree       \n",
            "Reading state information... Done\n",
            "The following package was automatically installed and is no longer required:\n",
            "  libnvidia-common-460\n",
            "Use 'sudo apt autoremove' to remove it.\n",
            "The following NEW packages will be installed:\n",
            "  tesseract-ocr-rus\n",
            "0 upgraded, 1 newly installed, 0 to remove and 4 not upgraded.\n",
            "Need to get 1,272 kB of archives.\n",
            "After this operation, 3,877 kB of additional disk space will be used.\n",
            "Get:1 http://archive.ubuntu.com/ubuntu bionic/universe amd64 tesseract-ocr-rus all 4.00~git24-0e00fe6-1.2 [1,272 kB]\n",
            "Fetched 1,272 kB in 0s (4,663 kB/s)\n",
            "debconf: unable to initialize frontend: Dialog\n",
            "debconf: (No usable dialog-like program is installed, so the dialog based frontend cannot be used. at /usr/share/perl5/Debconf/FrontEnd/Dialog.pm line 76, <> line 1.)\n",
            "debconf: falling back to frontend: Readline\n",
            "debconf: unable to initialize frontend: Readline\n",
            "debconf: (This frontend requires a controlling tty.)\n",
            "debconf: falling back to frontend: Teletype\n",
            "dpkg-preconfigure: unable to re-open stdin: \n",
            "Selecting previously unselected package tesseract-ocr-rus.\n",
            "(Reading database ... 123989 files and directories currently installed.)\n",
            "Preparing to unpack .../tesseract-ocr-rus_4.00~git24-0e00fe6-1.2_all.deb ...\n",
            "Unpacking tesseract-ocr-rus (4.00~git24-0e00fe6-1.2) ...\n",
            "Setting up tesseract-ocr-rus (4.00~git24-0e00fe6-1.2) ...\n"
          ]
        }
      ]
    },
    {
      "cell_type": "code",
      "source": [
        "from PIL import Image\n",
        "import pytesseract\n",
        "from urllib.request import urlopen\n",
        "\n",
        "pytesseract.pytesseract.tesseract_cmd = r'/usr/bin/tesseract'\n",
        "\n",
        "url = \"https://sad9.ru/images/u/pages/107/2v-tot-god-osennyaya-pogoda-2-kl.png\"\n",
        "\n",
        "img = Image.open(urlopen(url))\n",
        "\n",
        "pytesseract.image_to_string(img, lang= 'rus').replace(\"\\n\",\" \")"
      ],
      "metadata": {
        "colab": {
          "base_uri": "https://localhost:8080/",
          "height": 70
        },
        "id": "IYPOyRueCd9c",
        "outputId": "08de5f0d-22ef-4965-9311-b09a0409fbb8"
      },
      "execution_count": 11,
      "outputs": [
        {
          "output_type": "execute_result",
          "data": {
            "text/plain": [
              "'В тот год осенняя погода Стояла долго на дворе,  Зимы ждала, ждала природа. Снег выпал только в январе На третье в ночь. Проснувшись рано, В окно увидела Татьяна Поутру побелевший двор, Куртины, кровли и забор,  На стеклах легкие узоры, Деревья в зимнем серебре, Сорок веселых на дворе  И мягко устланные горы  Зимы блистательным ковром. Все ярко, все бело кругом.  за9.ги \\x0c'"
            ],
            "application/vnd.google.colaboratory.intrinsic+json": {
              "type": "string"
            }
          },
          "metadata": {},
          "execution_count": 11
        }
      ]
    }
  ],
  "metadata": {
    "colab": {
      "collapsed_sections": [],
      "provenance": [],
      "toc_visible": true
    },
    "kernelspec": {
      "display_name": "Python 3",
      "name": "python3"
    }
  },
  "nbformat": 4,
  "nbformat_minor": 0
}