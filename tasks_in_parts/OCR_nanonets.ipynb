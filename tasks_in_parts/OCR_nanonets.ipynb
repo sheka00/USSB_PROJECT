{
  "cells": [
    {
      "cell_type": "code",
      "source": [
        "!pip install ocr-nanonets-wrapper"
      ],
      "metadata": {
        "colab": {
          "base_uri": "https://localhost:8080/"
        },
        "id": "_urmN6kkqOex",
        "outputId": "88a26dae-3b45-4b8d-9c71-516cf53d0874"
      },
      "execution_count": 12,
      "outputs": [
        {
          "output_type": "stream",
          "name": "stdout",
          "text": [
            "Looking in indexes: https://pypi.org/simple, https://us-python.pkg.dev/colab-wheels/public/simple/\n",
            "Requirement already satisfied: ocr-nanonets-wrapper in /usr/local/lib/python3.7/dist-packages (1.1)\n",
            "Requirement already satisfied: fpdf in /usr/local/lib/python3.7/dist-packages (from ocr-nanonets-wrapper) (1.7.2)\n",
            "Requirement already satisfied: pandas in /usr/local/lib/python3.7/dist-packages (from ocr-nanonets-wrapper) (1.3.5)\n",
            "Requirement already satisfied: requests in /usr/local/lib/python3.7/dist-packages (from ocr-nanonets-wrapper) (2.23.0)\n",
            "Requirement already satisfied: numpy in /usr/local/lib/python3.7/dist-packages (from ocr-nanonets-wrapper) (1.21.6)\n",
            "Requirement already satisfied: python-dateutil>=2.7.3 in /usr/local/lib/python3.7/dist-packages (from pandas->ocr-nanonets-wrapper) (2.8.2)\n",
            "Requirement already satisfied: pytz>=2017.3 in /usr/local/lib/python3.7/dist-packages (from pandas->ocr-nanonets-wrapper) (2022.5)\n",
            "Requirement already satisfied: six>=1.5 in /usr/local/lib/python3.7/dist-packages (from python-dateutil>=2.7.3->pandas->ocr-nanonets-wrapper) (1.15.0)\n",
            "Requirement already satisfied: idna<3,>=2.5 in /usr/local/lib/python3.7/dist-packages (from requests->ocr-nanonets-wrapper) (2.10)\n",
            "Requirement already satisfied: chardet<4,>=3.0.2 in /usr/local/lib/python3.7/dist-packages (from requests->ocr-nanonets-wrapper) (3.0.4)\n",
            "Requirement already satisfied: urllib3!=1.25.0,!=1.25.1,<1.26,>=1.21.1 in /usr/local/lib/python3.7/dist-packages (from requests->ocr-nanonets-wrapper) (1.24.3)\n",
            "Requirement already satisfied: certifi>=2017.4.17 in /usr/local/lib/python3.7/dist-packages (from requests->ocr-nanonets-wrapper) (2022.9.24)\n"
          ]
        }
      ]
    },
    {
      "cell_type": "code",
      "source": [
        "from nanonets import NANONETSOCR\n",
        "\n",
        "model = NANONETSOCR()\n",
        "model.set_token('9oaBV3LTmeM2oCqdA4Sf4debajLvap7L')\n",
        "\n",
        "string = model.image_to_string(\"https://sad9.ru/images/u/pages/107/2v-tot-god-osennyaya-pogoda-2-kl.png\")\n",
        "print(string)\n",
        "#русский язык не нашёл "
      ],
      "metadata": {
        "id": "al6jVreSsuYZ",
        "outputId": "5e5376c9-17bc-481e-f039-f4eb39228d18",
        "colab": {
          "base_uri": "https://localhost:8080/"
        }
      },
      "execution_count": 17,
      "outputs": [
        {
          "output_type": "stream",
          "name": "stdout",
          "text": [
            " B TOT roa OCEHHAA noroga\n",
            "CTOAna gonro Ha ABope ,\n",
            "3VMbI xnana, xAana npupona.\n",
            "Cher Bbinan TONbKO B AHBape\n",
            " Ha TpeTbe B HOYb. NpochybwnCb paho ,\n",
            " B OKHO yBngena TaTbAHa\n",
            " Noytpy no6eneBwnn ABop ,\n",
            " KypTMHbI, KpoBnn V 3a6op,\n",
            " Ha cteknax nerkne y3opbI,\n",
            "AepeBbA B 3VMHEM cepe6pe,\n",
            "Copok BecenbIX Ha ABope\n",
            " M MATKO yctnaHHbIe ropbI\n",
            "3yMbI 6nnctaTebHbIM KOBPOM .\n",
            " Bce APKO , Bce 6eno KpyroM. .\n",
            "sa9.ru\n"
          ]
        }
      ]
    }
  ],
  "metadata": {
    "colab": {
      "collapsed_sections": [],
      "name": "Добро пожаловать в Colaboratory!",
      "provenance": []
    },
    "kernelspec": {
      "display_name": "Python 3",
      "name": "python3"
    }
  },
  "nbformat": 4,
  "nbformat_minor": 0
}