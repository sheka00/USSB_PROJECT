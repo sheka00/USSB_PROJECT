{
  "cells": [
    {
      "cell_type": "code",
      "source": [
        "!pip install natasha"
      ],
      "metadata": {
        "id": "yz7zPUZWSDSt",
        "outputId": "3ec5fbfc-e8d9-4329-b79d-e96911ad1a6e",
        "colab": {
          "base_uri": "https://localhost:8080/"
        }
      },
      "execution_count": 94,
      "outputs": [
        {
          "output_type": "stream",
          "name": "stdout",
          "text": [
            "Looking in indexes: https://pypi.org/simple, https://us-python.pkg.dev/colab-wheels/public/simple/\n",
            "Collecting natasha\n",
            "  Downloading natasha-1.4.0-py3-none-any.whl (34.4 MB)\n",
            "\u001b[K     |████████████████████████████████| 34.4 MB 96 kB/s \n",
            "\u001b[?25hCollecting slovnet>=0.3.0\n",
            "  Downloading slovnet-0.5.0-py3-none-any.whl (49 kB)\n",
            "\u001b[K     |████████████████████████████████| 49 kB 5.5 MB/s \n",
            "\u001b[?25hCollecting razdel>=0.5.0\n",
            "  Downloading razdel-0.5.0-py3-none-any.whl (21 kB)\n",
            "Collecting ipymarkup>=0.8.0\n",
            "  Downloading ipymarkup-0.9.0-py3-none-any.whl (14 kB)\n",
            "Collecting pymorphy2\n",
            "  Downloading pymorphy2-0.9.1-py3-none-any.whl (55 kB)\n",
            "\u001b[K     |████████████████████████████████| 55 kB 3.3 MB/s \n",
            "\u001b[?25hCollecting navec>=0.9.0\n",
            "  Downloading navec-0.10.0-py3-none-any.whl (23 kB)\n",
            "Collecting yargy>=0.14.0\n",
            "  Downloading yargy-0.15.0-py3-none-any.whl (41 kB)\n",
            "\u001b[K     |████████████████████████████████| 41 kB 108 kB/s \n",
            "\u001b[?25hCollecting intervaltree>=3\n",
            "  Downloading intervaltree-3.1.0.tar.gz (32 kB)\n",
            "Requirement already satisfied: sortedcontainers<3.0,>=2.0 in /usr/local/lib/python3.7/dist-packages (from intervaltree>=3->ipymarkup>=0.8.0->natasha) (2.4.0)\n",
            "Requirement already satisfied: numpy in /usr/local/lib/python3.7/dist-packages (from navec>=0.9.0->natasha) (1.21.6)\n",
            "Collecting docopt>=0.6\n",
            "  Downloading docopt-0.6.2.tar.gz (25 kB)\n",
            "Collecting pymorphy2-dicts-ru<3.0,>=2.4\n",
            "  Downloading pymorphy2_dicts_ru-2.4.417127.4579844-py2.py3-none-any.whl (8.2 MB)\n",
            "\u001b[K     |████████████████████████████████| 8.2 MB 38.0 MB/s \n",
            "\u001b[?25hCollecting dawg-python>=0.7.1\n",
            "  Downloading DAWG_Python-0.7.2-py2.py3-none-any.whl (11 kB)\n",
            "Building wheels for collected packages: intervaltree, docopt\n",
            "  Building wheel for intervaltree (setup.py) ... \u001b[?25l\u001b[?25hdone\n",
            "  Created wheel for intervaltree: filename=intervaltree-3.1.0-py2.py3-none-any.whl size=26119 sha256=6e256785fbdb7f9b4a112f489254cd98623b09768323cb65231556e895f94c2b\n",
            "  Stored in directory: /root/.cache/pip/wheels/16/85/bd/1001cbb46dcfb71c2001cd7401c6fb250392f22a81ce3722f7\n",
            "  Building wheel for docopt (setup.py) ... \u001b[?25l\u001b[?25hdone\n",
            "  Created wheel for docopt: filename=docopt-0.6.2-py2.py3-none-any.whl size=13723 sha256=d5243d6cc493faa1a5c8868806d9217df33b56a1f65645357f268d513c8f6ed2\n",
            "  Stored in directory: /root/.cache/pip/wheels/72/b0/3f/1d95f96ff986c7dfffe46ce2be4062f38ebd04b506c77c81b9\n",
            "Successfully built intervaltree docopt\n",
            "Installing collected packages: pymorphy2-dicts-ru, docopt, dawg-python, razdel, pymorphy2, navec, intervaltree, yargy, slovnet, ipymarkup, natasha\n",
            "  Attempting uninstall: intervaltree\n",
            "    Found existing installation: intervaltree 2.1.0\n",
            "    Uninstalling intervaltree-2.1.0:\n",
            "      Successfully uninstalled intervaltree-2.1.0\n",
            "Successfully installed dawg-python-0.7.2 docopt-0.6.2 intervaltree-3.1.0 ipymarkup-0.9.0 natasha-1.4.0 navec-0.10.0 pymorphy2-0.9.1 pymorphy2-dicts-ru-2.4.417127.4579844 razdel-0.5.0 slovnet-0.5.0 yargy-0.15.0\n"
          ]
        }
      ]
    },
    {
      "cell_type": "code",
      "source": [
        "from natasha import (\n",
        "    Segmenter,\n",
        "    MorphVocab,\n",
        "    \n",
        "    NewsEmbedding,\n",
        "    NewsMorphTagger,\n",
        "    NewsSyntaxParser,\n",
        "    NewsNERTagger,\n",
        "    \n",
        "    PER,\n",
        "    NamesExtractor,\n",
        "\n",
        "    Doc\n",
        ")\n",
        "russian_text = 'Россия возобновила участие в зерновой сделке России, Турции, Украины и ООН. Украина дала России гарантии, что не будет использовать зерновой коридор для ведения боевых действий, говорится в сообщении Минобороны России.«Благодаря участию международной организации, а также содействию Турции удалось получить необходимые письменные гарантии со стороны Украины о неиспользовании гуманитарного коридора и украинских портов, определенных в интересах вывоза сельскохозяйственной продукции, для ведения боевых действий против России, направленные в Совместный координационный центр 1 ноября 2022 года», — сказано в сообщении.'\n",
        "segmenter = Segmenter()\n",
        "morph_vocab = MorphVocab()\n",
        "\n",
        "emb = NewsEmbedding()\n",
        "morph_tagger = NewsMorphTagger(emb)\n",
        "syntax_parser = NewsSyntaxParser(emb)\n",
        "ner_tagger = NewsNERTagger(emb)\n",
        "\n",
        "names_extractor = NamesExtractor(morph_vocab)\n",
        "\n",
        "doc = Doc(russian_text)\n",
        "\n",
        "doc.segment(segmenter)\n",
        "doc.tag_morph(morph_tagger)\n",
        "doc.parse_syntax(syntax_parser)\n",
        "\n",
        "doc.tag_ner(ner_tagger)\n",
        "doc.ner.print()\n",
        "doc.ner"
      ],
      "metadata": {
        "id": "1sQinrVpSDVc",
        "outputId": "1855db25-3655-44b9-d45a-97d40078f063",
        "colab": {
          "base_uri": "https://localhost:8080/"
        }
      },
      "execution_count": 95,
      "outputs": [
        {
          "output_type": "stream",
          "name": "stdout",
          "text": [
            "Россия возобновила участие в зерновой сделке России, Турции, Украины и\n",
            "LOC───                                       LOC───  LOC───  LOC────  \n",
            " ООН. Украина дала России гарантии, что не будет использовать зерновой\n",
            " ORG  LOC────      LOC───                                             \n",
            " коридор для ведения боевых действий, говорится в сообщении Минобороны\n",
            "                                                            ORG───────\n",
            " России.«Благодаря участию международной организации, а также \n",
            " LOC───                                                       \n",
            "содействию Турции удалось получить необходимые письменные гарантии со \n",
            "           LOC───                                                     \n",
            "стороны Украины о неиспользовании гуманитарного коридора и украинских \n",
            "        LOC────                                                       \n",
            "портов, определенных в интересах вывоза сельскохозяйственной \n",
            "продукции, для ведения боевых действий против России, направленные в \n",
            "                                              LOC───                 \n",
            "Совместный координационный центр 1 ноября 2022 года», — сказано в \n",
            "ORG─────────────────────────────                                  \n",
            "сообщении.\n"
          ]
        },
        {
          "output_type": "execute_result",
          "data": {
            "text/plain": [
              "NERMarkup(\n",
              "    text='Россия возобновила участие в зерновой сделке России, Турции, Украины и ООН. Украина дала России гарантии, что не будет использовать зерновой коридор для ведения боевых действий, говорится в сообщении Минобороны России.«Благодаря участию международной организации, а также содействию Турции удалось получить необходимые письменные гарантии со стороны Украины о неиспользовании гуманитарного коридора и украинских портов, определенных в интересах вывоза сельскохозяйственной продукции, для ведения боевых действий против России, направленные в Совместный координационный центр 1 ноября 2022 года», — сказано в сообщении.',\n",
              "    spans=[Span(\n",
              "         start=0,\n",
              "         stop=6,\n",
              "         type='LOC'\n",
              "     ), Span(\n",
              "         start=45,\n",
              "         stop=51,\n",
              "         type='LOC'\n",
              "     ), Span(\n",
              "         start=53,\n",
              "         stop=59,\n",
              "         type='LOC'\n",
              "     ), Span(\n",
              "         start=61,\n",
              "         stop=68,\n",
              "         type='LOC'\n",
              "     ), Span(\n",
              "         start=71,\n",
              "         stop=74,\n",
              "         type='ORG'\n",
              "     ), Span(\n",
              "         start=76,\n",
              "         stop=83,\n",
              "         type='LOC'\n",
              "     ), Span(\n",
              "         start=89,\n",
              "         stop=95,\n",
              "         type='LOC'\n",
              "     ), Span(\n",
              "         start=200,\n",
              "         stop=210,\n",
              "         type='ORG'\n",
              "     ), Span(\n",
              "         start=211,\n",
              "         stop=217,\n",
              "         type='LOC'\n",
              "     ), Span(\n",
              "         start=283,\n",
              "         stop=289,\n",
              "         type='LOC'\n",
              "     ), Span(\n",
              "         start=350,\n",
              "         stop=357,\n",
              "         type='LOC'\n",
              "     ), Span(\n",
              "         start=519,\n",
              "         stop=525,\n",
              "         type='LOC'\n",
              "     ), Span(\n",
              "         start=542,\n",
              "         stop=574,\n",
              "         type='ORG'\n",
              "     )]\n",
              ")"
            ]
          },
          "metadata": {},
          "execution_count": 95
        }
      ]
    },
    {
      "cell_type": "code",
      "source": [],
      "metadata": {
        "id": "UO99z5zMSDX0"
      },
      "execution_count": 95,
      "outputs": []
    },
    {
      "cell_type": "code",
      "source": [],
      "metadata": {
        "id": "zW4nYP_BSDac"
      },
      "execution_count": 95,
      "outputs": []
    },
    {
      "cell_type": "code",
      "source": [],
      "metadata": {
        "id": "2OkeGimdSDcs"
      },
      "execution_count": 95,
      "outputs": []
    },
    {
      "cell_type": "code",
      "source": [],
      "metadata": {
        "id": "FvKzE4LTSDkE"
      },
      "execution_count": 95,
      "outputs": []
    },
    {
      "cell_type": "code",
      "source": [],
      "metadata": {
        "id": "aajpEQiwSDmU"
      },
      "execution_count": 95,
      "outputs": []
    },
    {
      "cell_type": "code",
      "source": [],
      "metadata": {
        "id": "vwcTrqrBSDo8"
      },
      "execution_count": 95,
      "outputs": []
    },
    {
      "cell_type": "code",
      "source": [],
      "metadata": {
        "id": "tqiUMar1SDrk"
      },
      "execution_count": 95,
      "outputs": []
    }
  ],
  "metadata": {
    "colab": {
      "collapsed_sections": [],
      "name": "Добро пожаловать в Colaboratory!",
      "toc_visible": true,
      "provenance": []
    },
    "kernelspec": {
      "display_name": "Python 3",
      "name": "python3"
    }
  },
  "nbformat": 4,
  "nbformat_minor": 0
}