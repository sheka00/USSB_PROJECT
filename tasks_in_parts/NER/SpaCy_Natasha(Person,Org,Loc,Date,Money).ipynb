{
  "nbformat": 4,
  "nbformat_minor": 0,
  "metadata": {
    "colab": {
      "provenance": []
    },
    "kernelspec": {
      "name": "python3",
      "display_name": "Python 3"
    },
    "language_info": {
      "name": "python"
    }
  },
  "cells": [
    {
      "cell_type": "markdown",
      "source": [
        "# **Извлечение именованных сущностей(ФИО, организация, локация, дата, сумма денег)**"
      ],
      "metadata": {
        "id": "7Wuu5qfUtJLO"
      }
    },
    {
      "cell_type": "code",
      "execution_count": null,
      "metadata": {
        "colab": {
          "base_uri": "https://localhost:8080/"
        },
        "id": "lRc1TywstH_i",
        "outputId": "06e3ca09-55dc-4315-dda2-5a46d25ab15f"
      },
      "outputs": [
        {
          "output_type": "stream",
          "name": "stdout",
          "text": [
            "2022-11-09 14:06:35.463878: E tensorflow/stream_executor/cuda/cuda_driver.cc:271] failed call to cuInit: CUDA_ERROR_NO_DEVICE: no CUDA-capable device is detected\n",
            "Looking in indexes: https://pypi.org/simple, https://us-python.pkg.dev/colab-wheels/public/simple/\n",
            "Collecting ru-core-news-md==3.4.0\n",
            "  Downloading https://github.com/explosion/spacy-models/releases/download/ru_core_news_md-3.4.0/ru_core_news_md-3.4.0-py3-none-any.whl (41.9 MB)\n",
            "\u001b[K     |████████████████████████████████| 41.9 MB 1.2 MB/s \n",
            "\u001b[?25hCollecting pymorphy2>=0.9\n",
            "  Downloading pymorphy2-0.9.1-py3-none-any.whl (55 kB)\n",
            "\u001b[K     |████████████████████████████████| 55 kB 3.2 MB/s \n",
            "\u001b[?25hRequirement already satisfied: spacy<3.5.0,>=3.4.0 in /usr/local/lib/python3.7/dist-packages (from ru-core-news-md==3.4.0) (3.4.2)\n",
            "Collecting dawg-python>=0.7.1\n",
            "  Downloading DAWG_Python-0.7.2-py2.py3-none-any.whl (11 kB)\n",
            "Collecting pymorphy2-dicts-ru<3.0,>=2.4\n",
            "  Downloading pymorphy2_dicts_ru-2.4.417127.4579844-py2.py3-none-any.whl (8.2 MB)\n",
            "\u001b[K     |████████████████████████████████| 8.2 MB 37.4 MB/s \n",
            "\u001b[?25hCollecting docopt>=0.6\n",
            "  Downloading docopt-0.6.2.tar.gz (25 kB)\n",
            "Requirement already satisfied: requests<3.0.0,>=2.13.0 in /usr/local/lib/python3.7/dist-packages (from spacy<3.5.0,>=3.4.0->ru-core-news-md==3.4.0) (2.23.0)\n",
            "Requirement already satisfied: cymem<2.1.0,>=2.0.2 in /usr/local/lib/python3.7/dist-packages (from spacy<3.5.0,>=3.4.0->ru-core-news-md==3.4.0) (2.0.7)\n",
            "Requirement already satisfied: numpy>=1.15.0 in /usr/local/lib/python3.7/dist-packages (from spacy<3.5.0,>=3.4.0->ru-core-news-md==3.4.0) (1.21.6)\n",
            "Requirement already satisfied: spacy-loggers<2.0.0,>=1.0.0 in /usr/local/lib/python3.7/dist-packages (from spacy<3.5.0,>=3.4.0->ru-core-news-md==3.4.0) (1.0.3)\n",
            "Requirement already satisfied: catalogue<2.1.0,>=2.0.6 in /usr/local/lib/python3.7/dist-packages (from spacy<3.5.0,>=3.4.0->ru-core-news-md==3.4.0) (2.0.8)\n",
            "Requirement already satisfied: wasabi<1.1.0,>=0.9.1 in /usr/local/lib/python3.7/dist-packages (from spacy<3.5.0,>=3.4.0->ru-core-news-md==3.4.0) (0.10.1)\n",
            "Requirement already satisfied: srsly<3.0.0,>=2.4.3 in /usr/local/lib/python3.7/dist-packages (from spacy<3.5.0,>=3.4.0->ru-core-news-md==3.4.0) (2.4.5)\n",
            "Requirement already satisfied: pathy>=0.3.5 in /usr/local/lib/python3.7/dist-packages (from spacy<3.5.0,>=3.4.0->ru-core-news-md==3.4.0) (0.6.2)\n",
            "Requirement already satisfied: pydantic!=1.8,!=1.8.1,<1.11.0,>=1.7.4 in /usr/local/lib/python3.7/dist-packages (from spacy<3.5.0,>=3.4.0->ru-core-news-md==3.4.0) (1.10.2)\n",
            "Requirement already satisfied: spacy-legacy<3.1.0,>=3.0.10 in /usr/local/lib/python3.7/dist-packages (from spacy<3.5.0,>=3.4.0->ru-core-news-md==3.4.0) (3.0.10)\n",
            "Requirement already satisfied: packaging>=20.0 in /usr/local/lib/python3.7/dist-packages (from spacy<3.5.0,>=3.4.0->ru-core-news-md==3.4.0) (21.3)\n",
            "Requirement already satisfied: murmurhash<1.1.0,>=0.28.0 in /usr/local/lib/python3.7/dist-packages (from spacy<3.5.0,>=3.4.0->ru-core-news-md==3.4.0) (1.0.9)\n",
            "Requirement already satisfied: preshed<3.1.0,>=3.0.2 in /usr/local/lib/python3.7/dist-packages (from spacy<3.5.0,>=3.4.0->ru-core-news-md==3.4.0) (3.0.8)\n",
            "Requirement already satisfied: tqdm<5.0.0,>=4.38.0 in /usr/local/lib/python3.7/dist-packages (from spacy<3.5.0,>=3.4.0->ru-core-news-md==3.4.0) (4.64.1)\n",
            "Requirement already satisfied: typer<0.5.0,>=0.3.0 in /usr/local/lib/python3.7/dist-packages (from spacy<3.5.0,>=3.4.0->ru-core-news-md==3.4.0) (0.4.2)\n",
            "Requirement already satisfied: setuptools in /usr/local/lib/python3.7/dist-packages (from spacy<3.5.0,>=3.4.0->ru-core-news-md==3.4.0) (57.4.0)\n",
            "Requirement already satisfied: typing-extensions<4.2.0,>=3.7.4 in /usr/local/lib/python3.7/dist-packages (from spacy<3.5.0,>=3.4.0->ru-core-news-md==3.4.0) (4.1.1)\n",
            "Requirement already satisfied: langcodes<4.0.0,>=3.2.0 in /usr/local/lib/python3.7/dist-packages (from spacy<3.5.0,>=3.4.0->ru-core-news-md==3.4.0) (3.3.0)\n",
            "Requirement already satisfied: jinja2 in /usr/local/lib/python3.7/dist-packages (from spacy<3.5.0,>=3.4.0->ru-core-news-md==3.4.0) (2.11.3)\n",
            "Requirement already satisfied: thinc<8.2.0,>=8.1.0 in /usr/local/lib/python3.7/dist-packages (from spacy<3.5.0,>=3.4.0->ru-core-news-md==3.4.0) (8.1.5)\n",
            "Requirement already satisfied: zipp>=0.5 in /usr/local/lib/python3.7/dist-packages (from catalogue<2.1.0,>=2.0.6->spacy<3.5.0,>=3.4.0->ru-core-news-md==3.4.0) (3.10.0)\n",
            "Requirement already satisfied: pyparsing!=3.0.5,>=2.0.2 in /usr/local/lib/python3.7/dist-packages (from packaging>=20.0->spacy<3.5.0,>=3.4.0->ru-core-news-md==3.4.0) (3.0.9)\n",
            "Requirement already satisfied: smart-open<6.0.0,>=5.2.1 in /usr/local/lib/python3.7/dist-packages (from pathy>=0.3.5->spacy<3.5.0,>=3.4.0->ru-core-news-md==3.4.0) (5.2.1)\n",
            "Requirement already satisfied: certifi>=2017.4.17 in /usr/local/lib/python3.7/dist-packages (from requests<3.0.0,>=2.13.0->spacy<3.5.0,>=3.4.0->ru-core-news-md==3.4.0) (2022.9.24)\n",
            "Requirement already satisfied: chardet<4,>=3.0.2 in /usr/local/lib/python3.7/dist-packages (from requests<3.0.0,>=2.13.0->spacy<3.5.0,>=3.4.0->ru-core-news-md==3.4.0) (3.0.4)\n",
            "Requirement already satisfied: urllib3!=1.25.0,!=1.25.1,<1.26,>=1.21.1 in /usr/local/lib/python3.7/dist-packages (from requests<3.0.0,>=2.13.0->spacy<3.5.0,>=3.4.0->ru-core-news-md==3.4.0) (1.24.3)\n",
            "Requirement already satisfied: idna<3,>=2.5 in /usr/local/lib/python3.7/dist-packages (from requests<3.0.0,>=2.13.0->spacy<3.5.0,>=3.4.0->ru-core-news-md==3.4.0) (2.10)\n",
            "Requirement already satisfied: blis<0.8.0,>=0.7.8 in /usr/local/lib/python3.7/dist-packages (from thinc<8.2.0,>=8.1.0->spacy<3.5.0,>=3.4.0->ru-core-news-md==3.4.0) (0.7.9)\n",
            "Requirement already satisfied: confection<1.0.0,>=0.0.1 in /usr/local/lib/python3.7/dist-packages (from thinc<8.2.0,>=8.1.0->spacy<3.5.0,>=3.4.0->ru-core-news-md==3.4.0) (0.0.3)\n",
            "Requirement already satisfied: click<9.0.0,>=7.1.1 in /usr/local/lib/python3.7/dist-packages (from typer<0.5.0,>=0.3.0->spacy<3.5.0,>=3.4.0->ru-core-news-md==3.4.0) (7.1.2)\n",
            "Requirement already satisfied: MarkupSafe>=0.23 in /usr/local/lib/python3.7/dist-packages (from jinja2->spacy<3.5.0,>=3.4.0->ru-core-news-md==3.4.0) (2.0.1)\n",
            "Building wheels for collected packages: docopt\n",
            "  Building wheel for docopt (setup.py) ... \u001b[?25l\u001b[?25hdone\n",
            "  Created wheel for docopt: filename=docopt-0.6.2-py2.py3-none-any.whl size=13724 sha256=896711a9477084b4b41d11e6d204dc0562d74d93f77f414d80f3c105fc5e3cd9\n",
            "  Stored in directory: /root/.cache/pip/wheels/72/b0/3f/1d95f96ff986c7dfffe46ce2be4062f38ebd04b506c77c81b9\n",
            "Successfully built docopt\n",
            "Installing collected packages: pymorphy2-dicts-ru, docopt, dawg-python, pymorphy2, ru-core-news-md\n",
            "Successfully installed dawg-python-0.7.2 docopt-0.6.2 pymorphy2-0.9.1 pymorphy2-dicts-ru-2.4.417127.4579844 ru-core-news-md-3.4.0\n",
            "\u001b[38;5;2m✔ Download and installation successful\u001b[0m\n",
            "You can now load the package via spacy.load('ru_core_news_md')\n"
          ]
        }
      ],
      "source": [
        "!python -m spacy download ru_core_news_md"
      ]
    },
    {
      "cell_type": "code",
      "source": [
        "!pip install natasha"
      ],
      "metadata": {
        "colab": {
          "base_uri": "https://localhost:8080/"
        },
        "id": "FnqEOJ0CtzSW",
        "outputId": "2e110666-0271-4227-e1d2-3dc4d9f08d2d"
      },
      "execution_count": null,
      "outputs": [
        {
          "output_type": "stream",
          "name": "stdout",
          "text": [
            "Looking in indexes: https://pypi.org/simple, https://us-python.pkg.dev/colab-wheels/public/simple/\n",
            "Collecting natasha\n",
            "  Downloading natasha-1.4.0-py3-none-any.whl (34.4 MB)\n",
            "\u001b[K     |████████████████████████████████| 34.4 MB 190 kB/s \n",
            "\u001b[?25hCollecting navec>=0.9.0\n",
            "  Downloading navec-0.10.0-py3-none-any.whl (23 kB)\n",
            "Collecting razdel>=0.5.0\n",
            "  Downloading razdel-0.5.0-py3-none-any.whl (21 kB)\n",
            "Requirement already satisfied: pymorphy2 in /usr/local/lib/python3.7/dist-packages (from natasha) (0.9.1)\n",
            "Collecting yargy>=0.14.0\n",
            "  Downloading yargy-0.15.0-py3-none-any.whl (41 kB)\n",
            "\u001b[K     |████████████████████████████████| 41 kB 116 kB/s \n",
            "\u001b[?25hCollecting ipymarkup>=0.8.0\n",
            "  Downloading ipymarkup-0.9.0-py3-none-any.whl (14 kB)\n",
            "Collecting slovnet>=0.3.0\n",
            "  Downloading slovnet-0.5.0-py3-none-any.whl (49 kB)\n",
            "\u001b[K     |████████████████████████████████| 49 kB 5.4 MB/s \n",
            "\u001b[?25hCollecting intervaltree>=3\n",
            "  Downloading intervaltree-3.1.0.tar.gz (32 kB)\n",
            "Requirement already satisfied: sortedcontainers<3.0,>=2.0 in /usr/local/lib/python3.7/dist-packages (from intervaltree>=3->ipymarkup>=0.8.0->natasha) (2.4.0)\n",
            "Requirement already satisfied: numpy in /usr/local/lib/python3.7/dist-packages (from navec>=0.9.0->natasha) (1.21.6)\n",
            "Requirement already satisfied: pymorphy2-dicts-ru<3.0,>=2.4 in /usr/local/lib/python3.7/dist-packages (from pymorphy2->natasha) (2.4.417127.4579844)\n",
            "Requirement already satisfied: dawg-python>=0.7.1 in /usr/local/lib/python3.7/dist-packages (from pymorphy2->natasha) (0.7.2)\n",
            "Requirement already satisfied: docopt>=0.6 in /usr/local/lib/python3.7/dist-packages (from pymorphy2->natasha) (0.6.2)\n",
            "Building wheels for collected packages: intervaltree\n",
            "  Building wheel for intervaltree (setup.py) ... \u001b[?25l\u001b[?25hdone\n",
            "  Created wheel for intervaltree: filename=intervaltree-3.1.0-py2.py3-none-any.whl size=26120 sha256=b9c3e20c5049f2d9e60817958ca6ae8fe3379e087ad0fbaade9ea65c94bbd30e\n",
            "  Stored in directory: /root/.cache/pip/wheels/16/85/bd/1001cbb46dcfb71c2001cd7401c6fb250392f22a81ce3722f7\n",
            "Successfully built intervaltree\n",
            "Installing collected packages: razdel, navec, intervaltree, yargy, slovnet, ipymarkup, natasha\n",
            "  Attempting uninstall: intervaltree\n",
            "    Found existing installation: intervaltree 2.1.0\n",
            "    Uninstalling intervaltree-2.1.0:\n",
            "      Successfully uninstalled intervaltree-2.1.0\n",
            "Successfully installed intervaltree-3.1.0 ipymarkup-0.9.0 natasha-1.4.0 navec-0.10.0 razdel-0.5.0 slovnet-0.5.0 yargy-0.15.0\n"
          ]
        }
      ]
    },
    {
      "cell_type": "code",
      "source": [
        "from natasha import (\n",
        "    Segmenter,\n",
        "    MorphVocab,\n",
        "    \n",
        "    NewsEmbedding,\n",
        "    NewsMorphTagger,\n",
        "    NewsSyntaxParser,\n",
        "    NewsNERTagger,\n",
        "    \n",
        "    PER,\n",
        "    NamesExtractor,\n",
        "    DatesExtractor,\n",
        "    MoneyExtractor,\n",
        "    AddrExtractor,\n",
        "\n",
        "    Doc\n",
        ")\n",
        "\n",
        "segmenter = Segmenter()\n",
        "morph_vocab = MorphVocab()\n",
        "\n",
        "emb = NewsEmbedding()\n",
        "morph_tagger = NewsMorphTagger(emb)\n",
        "syntax_parser = NewsSyntaxParser(emb)\n",
        "ner_tagger = NewsNERTagger(emb)\n",
        "\n",
        "names_extractor = NamesExtractor(morph_vocab)\n",
        "dates_extractor = DatesExtractor(morph_vocab)\n",
        "money_extractor = MoneyExtractor(morph_vocab)\n",
        "addr_extractor = AddrExtractor(morph_vocab)\n",
        "import ru_core_news_md"
      ],
      "metadata": {
        "id": "qu-vseqevgao"
      },
      "execution_count": null,
      "outputs": []
    },
    {
      "cell_type": "code",
      "source": [
        "russian_text = '''\n",
        "Город Саранск                                                \t\t\t\t\t15 марта 2019 года\n",
        "  \t                \t                                                          \n",
        " \n",
        "Мы, Петров Иван Иванович, «10» октября 1970 года рождения, место рождения: г. Саранск, паспорт серия 8900 номер 123456, выдан «31» февраля 2015 года Ленинским РОВД г. Саранска, код подразделения 132-002, зарегистрированный по адресу: Республика Мордовия, г. Саранск, ул. Саранская, д. 2, кв. 2, именуемый в дальнейшем «Продавец»,\n",
        "\n",
        "и Иванов Петр Петрович, «20» декабря 1985 года рождения, место рождения: г. Калуга, паспорт серия 2905 номер 654321, выдан Отделом внутренних дел Ленинского округа г. Калуги «1» января 2005 года, код подразделения 402-001, зарегистрированный по адресу: г. Калуга,            ул. Калужская, д. 2, кв. 1, именуемый в дальнейшем «Покупатель», совместно именуемые «Стороны», в соответствии со ст. 556 ГК РФ составили настоящий акт о нижеследующем:\n",
        "\n",
        "1. Продавец передал, а Покупатель принял квартиру, расположенную по адресу:\n",
        "Республика Мордовия, г. Саранск, Ленинский район, ул. Весенняя, д. 3, кв. 8 (далее — Квартира) в соответствии с договором купли-продажи, заключенным в простой письменной форме «13» февраля 2019 года, надлежащего качества, имеющую следующие характеристики:\n",
        "Республика Мордовия, г. Саранск, Ленинский район, ул. Весенняя, д. 3, кв. 8, этаж 5. Площадь 55,5 кв. м.\n",
        "2. Покупатель осмотрел Квартиру, претензий к ее качеству не имеет. Стороны подтверждают, что на момент подписания настоящего акта Квартира находится в надлежащем состоянии и не имеет недостатков либо дефектов, препятствующих ее использованию в целях проживания.\n",
        "3. В квартире находится следующее имущество, которое вместе с квартирой переходит в собственность Покупателя:\n",
        "— шкаф-купе за 130 долларов,\n",
        "— встроенная кухня,\n",
        "— холодильник «Индезит»,\n",
        "— стиральная машина Beko.\n",
        "4. Продавец освободил Квартиру, передал Покупателю ключи от квартиры, а также документы, подтверждающие отсутствие задолженности по коммунальным платежам.\n",
        "5. Стороны не имеют друг к другу материальных претензий, подтверждают произведение полных расчетов по договору купли-продажи.\n",
        "6. С момента подписания настоящего передаточного акта риск случайной гибели или случайного повреждения указанной Квартиры несет Покупатель.\n",
        "7. Настоящий акт составлен в двух экземплярах, имеющих равную юридическую силу: один экземпляр Продавцу и один экземпляр Покупателю 550 р..\n",
        " \n",
        "Продавец:                                                                    Покупатель:\n",
        "Петров Иван Иванович                                              Иванов Петр Петрович\n",
        "\n",
        "'''"
      ],
      "metadata": {
        "id": "9hEaD_L2wDOm"
      },
      "execution_count": null,
      "outputs": []
    },
    {
      "cell_type": "markdown",
      "source": [
        "## **Для извлечения ФИ0(PER), организаций(ORG) и локаций(LOC) используем библиотеку SpaCy**"
      ],
      "metadata": {
        "id": "1I2Eim8KO3mD"
      }
    },
    {
      "cell_type": "code",
      "source": [
        "nlp = ru_core_news_md.load()\n",
        "document = nlp(russian_text)\n",
        "for named_entity in document.ents:\n",
        "    print(named_entity, named_entity.label_)"
      ],
      "metadata": {
        "colab": {
          "base_uri": "https://localhost:8080/"
        },
        "id": "iteZyLNVwBHP",
        "outputId": "75e2b3b7-cafb-4e7f-bb65-57f773aebaba"
      },
      "execution_count": null,
      "outputs": [
        {
          "output_type": "stream",
          "name": "stdout",
          "text": [
            "Саранск LOC\n",
            "Петров PER\n",
            "Иван Иванович PER\n",
            "Саранск LOC\n",
            "Ленинским РОВД ORG\n",
            "Саранска LOC\n",
            "Республика Мордовия LOC\n",
            "Саранск LOC\n",
            "Саранская LOC\n",
            "Иванов Петр Петрович PER\n",
            "Калуга LOC\n",
            "Отделом внутренних дел ORG\n",
            "Ленинского округа LOC\n",
            "Калуги LOC\n",
            "Калуга LOC\n",
            "Калужская LOC\n",
            "ГК ORG\n",
            "РФ LOC\n",
            "Покупатель PER\n",
            "Республика Мордовия LOC\n",
            "Саранск LOC\n",
            "Ленинский район LOC\n",
            "Весенняя LOC\n",
            "Квартира LOC\n",
            "Республика Мордовия LOC\n",
            "Саранск LOC\n",
            "Ленинский район LOC\n",
            "Весенняя LOC\n",
            "Квартиру LOC\n",
            "Квартира PER\n",
            "Покупателя LOC\n",
            "Квартиру LOC\n",
            "Покупателю PER\n",
            "Квартиры PER\n",
            "Покупатель PER\n",
            "Продавцу PER\n",
            "Петров PER\n",
            "Иван Иванович                                              Иванов PER\n",
            "Петр Петрович\n",
            "\n",
            " PER\n"
          ]
        }
      ]
    },
    {
      "cell_type": "markdown",
      "source": [
        "## **Извлечение суммы денег и дат можно выполнить через библиотеку natasha**"
      ],
      "metadata": {
        "id": "jn8PapQAPeP7"
      }
    },
    {
      "cell_type": "code",
      "source": [
        "segmenter = Segmenter()\n",
        "morph_vocab = MorphVocab()\n",
        "\n",
        "dates_extractor = DatesExtractor(morph_vocab)\n",
        "money_extractor = MoneyExtractor(morph_vocab)\n",
        "\n",
        "russian_text = russian_text.translate({ord(i): None for i in '«' and '»'})\n",
        "\n",
        "\n",
        "DATA = list(dates_extractor(russian_text))\n",
        "DATA\n",
        "\n"
      ],
      "metadata": {
        "colab": {
          "base_uri": "https://localhost:8080/"
        },
        "id": "2-HHMGq0w0p1",
        "outputId": "7458f20c-e289-43b5-be22-1c52f4cc140c"
      },
      "execution_count": null,
      "outputs": [
        {
          "output_type": "execute_result",
          "data": {
            "text/plain": [
              "[Match(\n",
              "     start=67,\n",
              "     stop=85,\n",
              "     fact=Date(\n",
              "         year=2019,\n",
              "         month=3,\n",
              "         day=15\n",
              "     )\n",
              " ), Match(\n",
              "     start=194,\n",
              "     stop=214,\n",
              "     fact=Date(\n",
              "         year=1970,\n",
              "         month=10,\n",
              "         day=10\n",
              "     )\n",
              " ), Match(\n",
              "     start=293,\n",
              "     stop=313,\n",
              "     fact=Date(\n",
              "         year=2015,\n",
              "         month=2,\n",
              "         day=31\n",
              "     )\n",
              " ), Match(\n",
              "     start=520,\n",
              "     stop=540,\n",
              "     fact=Date(\n",
              "         year=1985,\n",
              "         month=12,\n",
              "         day=20\n",
              "     )\n",
              " ), Match(\n",
              "     start=669,\n",
              "     stop=687,\n",
              "     fact=Date(\n",
              "         year=2005,\n",
              "         month=1,\n",
              "         day=1\n",
              "     )\n",
              " ), Match(\n",
              "     start=1189,\n",
              "     stop=1209,\n",
              "     fact=Date(\n",
              "         year=2019,\n",
              "         month=2,\n",
              "         day=13\n",
              "     )\n",
              " )]"
            ]
          },
          "metadata": {},
          "execution_count": 99
        }
      ]
    },
    {
      "cell_type": "code",
      "source": [
        "list(money_extractor(russian_text))"
      ],
      "metadata": {
        "colab": {
          "base_uri": "https://localhost:8080/"
        },
        "id": "Ije5u3gR2ZGf",
        "outputId": "3023a671-6503-4b3f-b946-66b9ce7f5c71"
      },
      "execution_count": null,
      "outputs": [
        {
          "output_type": "execute_result",
          "data": {
            "text/plain": [
              "[Match(\n",
              "     start=1759,\n",
              "     stop=1771,\n",
              "     fact=Money(\n",
              "         amount=130,\n",
              "         currency='USD'\n",
              "     )\n",
              " ), Match(\n",
              "     start=2396,\n",
              "     stop=2402,\n",
              "     fact=Money(\n",
              "         amount=550,\n",
              "         currency='RUB'\n",
              "     )\n",
              " )]"
            ]
          },
          "metadata": {},
          "execution_count": 92
        }
      ]
    }
  ]
}