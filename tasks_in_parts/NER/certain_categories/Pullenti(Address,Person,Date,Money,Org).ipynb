{
  "nbformat": 4,
  "nbformat_minor": 0,
  "metadata": {
    "colab": {
      "provenance": [],
      "collapsed_sections": []
    },
    "kernelspec": {
      "name": "python3",
      "display_name": "Python 3"
    },
    "language_info": {
      "name": "python"
    },
    "accelerator": "GPU",
    "gpuClass": "standard"
  },
  "cells": [
    {
      "cell_type": "code",
      "execution_count": null,
      "metadata": {
        "colab": {
          "base_uri": "https://localhost:8080/"
        },
        "id": "VQIqkTcQD6S6",
        "outputId": "a10f31d0-412f-47e9-8f08-d209bb8696a7"
      },
      "outputs": [
        {
          "output_type": "stream",
          "name": "stdout",
          "text": [
            "Looking in indexes: https://pypi.org/simple, https://us-python.pkg.dev/colab-wheels/public/simple/\n",
            "Collecting pullenti_wrapper\n",
            "  Downloading pullenti_wrapper-0.9.0-py3-none-any.whl (7.1 kB)\n",
            "Collecting pullenti==3.23\n",
            "  Downloading pullenti-3.23-py3-none-any.whl (15.3 MB)\n",
            "\u001b[K     |████████████████████████████████| 15.3 MB 52.8 MB/s \n",
            "\u001b[?25hCollecting pullenti-client==0.6.0\n",
            "  Downloading pullenti_client-0.6.0-py2.py3-none-any.whl (8.2 kB)\n",
            "Requirement already satisfied: requests in /usr/local/lib/python3.7/dist-packages (from pullenti-client==0.6.0->pullenti_wrapper) (2.23.0)\n",
            "Requirement already satisfied: certifi>=2017.4.17 in /usr/local/lib/python3.7/dist-packages (from requests->pullenti-client==0.6.0->pullenti_wrapper) (2022.9.24)\n",
            "Requirement already satisfied: chardet<4,>=3.0.2 in /usr/local/lib/python3.7/dist-packages (from requests->pullenti-client==0.6.0->pullenti_wrapper) (3.0.4)\n",
            "Requirement already satisfied: urllib3!=1.25.0,!=1.25.1,<1.26,>=1.21.1 in /usr/local/lib/python3.7/dist-packages (from requests->pullenti-client==0.6.0->pullenti_wrapper) (1.24.3)\n",
            "Requirement already satisfied: idna<3,>=2.5 in /usr/local/lib/python3.7/dist-packages (from requests->pullenti-client==0.6.0->pullenti_wrapper) (2.10)\n",
            "Installing collected packages: pullenti-client, pullenti, pullenti-wrapper\n",
            "Successfully installed pullenti-3.23 pullenti-client-0.6.0 pullenti-wrapper-0.9.0\n"
          ]
        }
      ],
      "source": [
        "!pip install pullenti_wrapper"
      ]
    },
    {
      "cell_type": "code",
      "source": [
        "import json"
      ],
      "metadata": {
        "id": "gu3z2DHHCj1s"
      },
      "execution_count": null,
      "outputs": []
    },
    {
      "cell_type": "code",
      "source": [
        "#Импортируем необходимые модули  из Pullenti и объявляем переменные\n",
        "from pullenti_wrapper.langs import (\n",
        "    set_langs,\n",
        "    RU\n",
        ")\n",
        "set_langs([RU])\n",
        "from pullenti_wrapper.processor import (\n",
        "    Processor,\n",
        "    ADDRESS,\n",
        "    PERSON,\n",
        "    DATE,\n",
        "    MONEY,\n",
        "    ORGANIZATION\n",
        ")\n",
        "from pullenti_wrapper.referent import Referent\n",
        "processor = Processor([ADDRESS, PERSON, DATE, MONEY, ORGANIZATION])\n",
        "text = '''\n",
        "В Кировский районный суд г. Ростова-на-Дону\n",
        "г. Ростов-на-Дону, пер. Газетный, 36\n",
        "Кривошеева Михаила Ивановича\n",
        "г. Ростов-на-Дону, переулок Журавлева 1, кв. 5а\n",
        "\n",
        "Заявление\n",
        "\n",
        "14 февраля 2019 года я подал иск о взыскании с Куролесова Григория Макаровича 72 тыс. рублей заемных средств. В соответствии с действующим законодательством причитающаяся мне к уплате госпошлина составляет 2360 руб.*, но в настоящее время я не имею возможности уплатить эту сумму в связи со сложным финансовым положением – уволен в связи с ликвидацией фирмы, нахожусь в поиске работы.\n",
        "\n",
        "На основании изложенного, руководствуясь ст. 333.41 НК РФ, прошу отсрочить уплату государственной пошлины по моему иску к Куролесову Г.М. до окончания рассмотрения дела.\n",
        "\n",
        "Приложение: справка Центра занятости.\n",
        "\n",
        "14.02.19\n",
        "\n",
        "Кривошеев М.И.\n",
        "\n",
        "*Расчет госпошлины осуществляется согласно ст. 333.19 НК РФ. По иску от 20001 до 100000 руб. госпошлина 800 руб. плюс 3% от суммы свыше 20000 руб. 72000-20000= 52000 руб. 52000 *3% = 1560 руб. 1560 + 800 = 2360 руб.\n",
        "'''\n",
        "data = []\n",
        "result = processor(text)\n",
        "for i in result.matches:\n",
        "  print(i.referent)\n"
      ],
      "metadata": {
        "colab": {
          "base_uri": "https://localhost:8080/"
        },
        "id": "6zZSR25vGImu",
        "outputId": "bb453186-40ab-4f7d-9cde-6ae6ae55d61d"
      },
      "execution_count": null,
      "outputs": [
        {
          "output_type": "stream",
          "name": "stdout",
          "text": [
            "OrganizationReferent(label='ORGANIZATION', slots=[Slot(key='PROFILE', value='JUSTICE'), Slot(key='TYPE', value='суд'), Slot(key='TYPE', value='районный суд'), Slot(key='NAME', value='КИРОВСКИЙ РАЙОННЫЙ СУД')])\n",
            "AddressReferent(label='ADDRESS', slots=[Slot(key='HOUSE', value='36'), Slot(key='STREET', value=StreetReferent(label='STREET', slots=[Slot(key='TYP', value='переулок'), Slot(key='NAME', value='ГАЗЕТНЫЙ')]))])\n",
            "PersonReferent(label='PERSON', slots=[Slot(key='SEX', value='MALE'), Slot(key='LASTNAME', value='КРИВОШЕЕВ'), Slot(key='FIRSTNAME', value='МИХАИЛ'), Slot(key='MIDDLENAME', value='ИВАНОВИЧ')])\n",
            "AddressReferent(label='ADDRESS', slots=[Slot(key='HOUSE', value='1'), Slot(key='FLAT', value='5А'), Slot(key='STREET', value=StreetReferent(label='STREET', slots=[Slot(key='TYP', value='переулок'), Slot(key='NAME', value='ЖУРАВЛЕВА')]))])\n",
            "DateReferent(label='DATE', slots=[Slot(key='DAY', value='14'), Slot(key='HIGHER', value=DateReferent(label='DATE', slots=[Slot(key='MONTH', value='2'), Slot(key='HIGHER', value=DateReferent(label='DATE', slots=[Slot(key='YEAR', value='2019')]))]))])\n",
            "PersonReferent(label='PERSON', slots=[Slot(key='SEX', value='MALE'), Slot(key='LASTNAME', value='КУРОЛЕСОВ'), Slot(key='FIRSTNAME', value='ГРИГОРИЙ'), Slot(key='MIDDLENAME', value='МАКАРОВИЧ')])\n",
            "MoneyReferent(label='MONEY', slots=[Slot(key='CURRENCY', value='RUB'), Slot(key='VALUE', value='72000')])\n",
            "MoneyReferent(label='MONEY', slots=[Slot(key='CURRENCY', value='RUB'), Slot(key='VALUE', value='2360')])\n",
            "DateReferent(label='DATE', slots=[Slot(key='POINTER', value='TODAY')])\n",
            "PersonReferent(label='PERSON', slots=[Slot(key='SEX', value='MALE'), Slot(key='LASTNAME', value='КУРОЛЕСОВ'), Slot(key='FIRSTNAME', value='ГРИГОРИЙ'), Slot(key='MIDDLENAME', value='МАКАРОВИЧ')])\n",
            "PersonReferent(label='PERSON', slots=[Slot(key='SEX', value='MALE'), Slot(key='LASTNAME', value='КРИВОШЕЕВ'), Slot(key='FIRSTNAME', value='МИХАИЛ'), Slot(key='MIDDLENAME', value='ИВАНОВИЧ')])\n",
            "MoneyReferent(label='MONEY', slots=[Slot(key='CURRENCY', value='RUB'), Slot(key='VALUE', value='20001')])\n",
            "MoneyReferent(label='MONEY', slots=[Slot(key='CURRENCY', value='RUB'), Slot(key='VALUE', value='100000')])\n",
            "MoneyReferent(label='MONEY', slots=[Slot(key='CURRENCY', value='RUB'), Slot(key='VALUE', value='800')])\n",
            "MoneyReferent(label='MONEY', slots=[Slot(key='CURRENCY', value='RUB'), Slot(key='VALUE', value='20000')])\n",
            "MoneyReferent(label='MONEY', slots=[Slot(key='CURRENCY', value='RUB'), Slot(key='VALUE', value='52000')])\n",
            "MoneyReferent(label='MONEY', slots=[Slot(key='CURRENCY', value='RUB'), Slot(key='VALUE', value='1560')])\n",
            "MoneyReferent(label='MONEY', slots=[Slot(key='CURRENCY', value='RUB'), Slot(key='VALUE', value='2360')])\n"
          ]
        }
      ]
    }
  ]
}